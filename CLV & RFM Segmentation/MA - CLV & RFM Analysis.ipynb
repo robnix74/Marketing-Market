{
 "cells": [
  {
   "cell_type": "markdown",
   "metadata": {
    "toc": true
   },
   "source": [
    "<h1>Table of Contents<span class=\"tocSkip\"></span></h1>\n",
    "<div class=\"toc\"><ul class=\"toc-item\"><li><span><a href=\"#Data-Cleaning\" data-toc-modified-id=\"Data-Cleaning-1\"><span class=\"toc-item-num\">1&nbsp;&nbsp;</span>Data Cleaning</a></span><ul class=\"toc-item\"><li><span><a href=\"#Description-:-Cleaning\" data-toc-modified-id=\"Description-:-Cleaning-1.1\"><span class=\"toc-item-num\">1.1&nbsp;&nbsp;</span>Description : Cleaning</a></span></li><li><span><a href=\"#Unit-Price-:-Cleaning\" data-toc-modified-id=\"Unit-Price-:-Cleaning-1.2\"><span class=\"toc-item-num\">1.2&nbsp;&nbsp;</span>Unit Price : Cleaning</a></span></li><li><span><a href=\"#Cancelled-Products\" data-toc-modified-id=\"Cancelled-Products-1.3\"><span class=\"toc-item-num\">1.3&nbsp;&nbsp;</span>Cancelled Products</a></span></li><li><span><a href=\"#StockCode-:-Cleaning\" data-toc-modified-id=\"StockCode-:-Cleaning-1.4\"><span class=\"toc-item-num\">1.4&nbsp;&nbsp;</span>StockCode : Cleaning</a></span></li><li><span><a href=\"#CustomerID-:-Cleaning\" data-toc-modified-id=\"CustomerID-:-Cleaning-1.5\"><span class=\"toc-item-num\">1.5&nbsp;&nbsp;</span>CustomerID : Cleaning</a></span></li></ul></li><li><span><a href=\"#Customer-Lifetime-Value\" data-toc-modified-id=\"Customer-Lifetime-Value-2\"><span class=\"toc-item-num\">2&nbsp;&nbsp;</span>Customer Lifetime Value</a></span><ul class=\"toc-item\"><li><span><a href=\"#Customer-Statistics\" data-toc-modified-id=\"Customer-Statistics-2.1\"><span class=\"toc-item-num\">2.1&nbsp;&nbsp;</span>Customer Statistics</a></span></li></ul></li><li><span><a href=\"#Receny-Frequency-Monetary-Analysis-and-Segmentation:---      \" data-toc-modified-id=\"Receny-Frequency-Monetary-Analysis-and-Segmentation:---      -3\"><span class=\"toc-item-num\">3&nbsp;&nbsp;</span>Receny Frequency Monetary Analysis and Segmentation:-        </a></span><ul class=\"toc-item\"><li><span><a href=\"#RFM-Segmentation-:-\" data-toc-modified-id=\"RFM-Segmentation-:--3.1\"><span class=\"toc-item-num\">3.1&nbsp;&nbsp;</span>RFM Segmentation :-</a></span><ul class=\"toc-item\"><li><span><a href=\"#Cluster-Visualisation\" data-toc-modified-id=\"Cluster-Visualisation-3.1.1\"><span class=\"toc-item-num\">3.1.1&nbsp;&nbsp;</span>Cluster Visualisation</a></span></li></ul></li></ul></li></ul></div>"
   ]
  },
  {
   "cell_type": "code",
   "execution_count": 370,
   "metadata": {
    "ExecuteTime": {
     "end_time": "2020-08-07T16:41:24.454513Z",
     "start_time": "2020-08-07T16:41:24.449501Z"
    }
   },
   "outputs": [],
   "source": [
    "import pandas as pd\n",
    "import numpy as np\n",
    "\n",
    "import re\n",
    "import string\n",
    "\n",
    "import matplotlib.pyplot as plt\n",
    "import seaborn as sns\n",
    "\n",
    "from sklearn import preprocessing\n",
    "from sklearn.cluster import KMeans"
   ]
  },
  {
   "cell_type": "code",
   "execution_count": 371,
   "metadata": {
    "ExecuteTime": {
     "end_time": "2020-08-07T16:42:16.426974Z",
     "start_time": "2020-08-07T16:41:24.645975Z"
    }
   },
   "outputs": [],
   "source": [
    "da = pd.read_excel('Online Retail.xlsx')"
   ]
  },
  {
   "cell_type": "code",
   "execution_count": 372,
   "metadata": {
    "ExecuteTime": {
     "end_time": "2020-08-07T16:42:16.661348Z",
     "start_time": "2020-08-07T16:42:16.647386Z"
    }
   },
   "outputs": [
    {
     "data": {
      "text/html": [
       "<div>\n",
       "<style scoped>\n",
       "    .dataframe tbody tr th:only-of-type {\n",
       "        vertical-align: middle;\n",
       "    }\n",
       "\n",
       "    .dataframe tbody tr th {\n",
       "        vertical-align: top;\n",
       "    }\n",
       "\n",
       "    .dataframe thead th {\n",
       "        text-align: right;\n",
       "    }\n",
       "</style>\n",
       "<table border=\"1\" class=\"dataframe\">\n",
       "  <thead>\n",
       "    <tr style=\"text-align: right;\">\n",
       "      <th></th>\n",
       "      <th>InvoiceNo</th>\n",
       "      <th>StockCode</th>\n",
       "      <th>Description</th>\n",
       "      <th>Quantity</th>\n",
       "      <th>InvoiceDate</th>\n",
       "      <th>UnitPrice</th>\n",
       "      <th>CustomerID</th>\n",
       "      <th>Country</th>\n",
       "    </tr>\n",
       "  </thead>\n",
       "  <tbody>\n",
       "    <tr>\n",
       "      <td>0</td>\n",
       "      <td>536365</td>\n",
       "      <td>85123A</td>\n",
       "      <td>WHITE HANGING HEART T-LIGHT HOLDER</td>\n",
       "      <td>6</td>\n",
       "      <td>2010-12-01 08:26:00</td>\n",
       "      <td>2.55</td>\n",
       "      <td>17850.0</td>\n",
       "      <td>United Kingdom</td>\n",
       "    </tr>\n",
       "    <tr>\n",
       "      <td>1</td>\n",
       "      <td>536365</td>\n",
       "      <td>71053</td>\n",
       "      <td>WHITE METAL LANTERN</td>\n",
       "      <td>6</td>\n",
       "      <td>2010-12-01 08:26:00</td>\n",
       "      <td>3.39</td>\n",
       "      <td>17850.0</td>\n",
       "      <td>United Kingdom</td>\n",
       "    </tr>\n",
       "    <tr>\n",
       "      <td>2</td>\n",
       "      <td>536365</td>\n",
       "      <td>84406B</td>\n",
       "      <td>CREAM CUPID HEARTS COAT HANGER</td>\n",
       "      <td>8</td>\n",
       "      <td>2010-12-01 08:26:00</td>\n",
       "      <td>2.75</td>\n",
       "      <td>17850.0</td>\n",
       "      <td>United Kingdom</td>\n",
       "    </tr>\n",
       "    <tr>\n",
       "      <td>3</td>\n",
       "      <td>536365</td>\n",
       "      <td>84029G</td>\n",
       "      <td>KNITTED UNION FLAG HOT WATER BOTTLE</td>\n",
       "      <td>6</td>\n",
       "      <td>2010-12-01 08:26:00</td>\n",
       "      <td>3.39</td>\n",
       "      <td>17850.0</td>\n",
       "      <td>United Kingdom</td>\n",
       "    </tr>\n",
       "    <tr>\n",
       "      <td>4</td>\n",
       "      <td>536365</td>\n",
       "      <td>84029E</td>\n",
       "      <td>RED WOOLLY HOTTIE WHITE HEART.</td>\n",
       "      <td>6</td>\n",
       "      <td>2010-12-01 08:26:00</td>\n",
       "      <td>3.39</td>\n",
       "      <td>17850.0</td>\n",
       "      <td>United Kingdom</td>\n",
       "    </tr>\n",
       "  </tbody>\n",
       "</table>\n",
       "</div>"
      ],
      "text/plain": [
       "  InvoiceNo StockCode                          Description  Quantity  \\\n",
       "0    536365    85123A   WHITE HANGING HEART T-LIGHT HOLDER         6   \n",
       "1    536365     71053                  WHITE METAL LANTERN         6   \n",
       "2    536365    84406B       CREAM CUPID HEARTS COAT HANGER         8   \n",
       "3    536365    84029G  KNITTED UNION FLAG HOT WATER BOTTLE         6   \n",
       "4    536365    84029E       RED WOOLLY HOTTIE WHITE HEART.         6   \n",
       "\n",
       "          InvoiceDate  UnitPrice  CustomerID         Country  \n",
       "0 2010-12-01 08:26:00       2.55     17850.0  United Kingdom  \n",
       "1 2010-12-01 08:26:00       3.39     17850.0  United Kingdom  \n",
       "2 2010-12-01 08:26:00       2.75     17850.0  United Kingdom  \n",
       "3 2010-12-01 08:26:00       3.39     17850.0  United Kingdom  \n",
       "4 2010-12-01 08:26:00       3.39     17850.0  United Kingdom  "
      ]
     },
     "execution_count": 372,
     "metadata": {},
     "output_type": "execute_result"
    }
   ],
   "source": [
    "da.head()"
   ]
  },
  {
   "cell_type": "code",
   "execution_count": 373,
   "metadata": {
    "ExecuteTime": {
     "end_time": "2020-08-07T16:42:16.845880Z",
     "start_time": "2020-08-07T16:42:16.839869Z"
    }
   },
   "outputs": [
    {
     "data": {
      "text/plain": [
       "Index(['InvoiceNo', 'StockCode', 'Description', 'Quantity', 'InvoiceDate',\n",
       "       'UnitPrice', 'CustomerID', 'Country'],\n",
       "      dtype='object')"
      ]
     },
     "execution_count": 373,
     "metadata": {},
     "output_type": "execute_result"
    }
   ],
   "source": [
    "da.columns"
   ]
  },
  {
   "cell_type": "code",
   "execution_count": 374,
   "metadata": {
    "ExecuteTime": {
     "end_time": "2020-08-07T16:42:17.004431Z",
     "start_time": "2020-08-07T16:42:16.996452Z"
    }
   },
   "outputs": [
    {
     "data": {
      "text/plain": [
       "InvoiceNo              object\n",
       "StockCode              object\n",
       "Description            object\n",
       "Quantity                int64\n",
       "InvoiceDate    datetime64[ns]\n",
       "UnitPrice             float64\n",
       "CustomerID            float64\n",
       "Country                object\n",
       "dtype: object"
      ]
     },
     "execution_count": 374,
     "metadata": {},
     "output_type": "execute_result"
    }
   ],
   "source": [
    "da.dtypes"
   ]
  },
  {
   "cell_type": "code",
   "execution_count": 375,
   "metadata": {
    "ExecuteTime": {
     "end_time": "2020-08-07T16:42:17.262768Z",
     "start_time": "2020-08-07T16:42:17.162026Z"
    }
   },
   "outputs": [
    {
     "name": "stdout",
     "output_type": "stream",
     "text": [
      "<class 'pandas.core.frame.DataFrame'>\n",
      "RangeIndex: 541909 entries, 0 to 541908\n",
      "Data columns (total 8 columns):\n",
      "InvoiceNo      541909 non-null object\n",
      "StockCode      541909 non-null object\n",
      "Description    540455 non-null object\n",
      "Quantity       541909 non-null int64\n",
      "InvoiceDate    541909 non-null datetime64[ns]\n",
      "UnitPrice      541909 non-null float64\n",
      "CustomerID     406829 non-null float64\n",
      "Country        541909 non-null object\n",
      "dtypes: datetime64[ns](1), float64(2), int64(1), object(4)\n",
      "memory usage: 33.1+ MB\n"
     ]
    }
   ],
   "source": [
    "da.info()"
   ]
  },
  {
   "cell_type": "code",
   "execution_count": 376,
   "metadata": {
    "ExecuteTime": {
     "end_time": "2020-08-07T16:42:17.483149Z",
     "start_time": "2020-08-07T16:42:17.406366Z"
    }
   },
   "outputs": [
    {
     "data": {
      "text/html": [
       "<div>\n",
       "<style scoped>\n",
       "    .dataframe tbody tr th:only-of-type {\n",
       "        vertical-align: middle;\n",
       "    }\n",
       "\n",
       "    .dataframe tbody tr th {\n",
       "        vertical-align: top;\n",
       "    }\n",
       "\n",
       "    .dataframe thead th {\n",
       "        text-align: right;\n",
       "    }\n",
       "</style>\n",
       "<table border=\"1\" class=\"dataframe\">\n",
       "  <thead>\n",
       "    <tr style=\"text-align: right;\">\n",
       "      <th></th>\n",
       "      <th>Quantity</th>\n",
       "      <th>UnitPrice</th>\n",
       "      <th>CustomerID</th>\n",
       "    </tr>\n",
       "  </thead>\n",
       "  <tbody>\n",
       "    <tr>\n",
       "      <td>count</td>\n",
       "      <td>541909.000000</td>\n",
       "      <td>541909.000000</td>\n",
       "      <td>406829.000000</td>\n",
       "    </tr>\n",
       "    <tr>\n",
       "      <td>mean</td>\n",
       "      <td>9.552250</td>\n",
       "      <td>4.611114</td>\n",
       "      <td>15287.690570</td>\n",
       "    </tr>\n",
       "    <tr>\n",
       "      <td>std</td>\n",
       "      <td>218.081158</td>\n",
       "      <td>96.759853</td>\n",
       "      <td>1713.600303</td>\n",
       "    </tr>\n",
       "    <tr>\n",
       "      <td>min</td>\n",
       "      <td>-80995.000000</td>\n",
       "      <td>-11062.060000</td>\n",
       "      <td>12346.000000</td>\n",
       "    </tr>\n",
       "    <tr>\n",
       "      <td>25%</td>\n",
       "      <td>1.000000</td>\n",
       "      <td>1.250000</td>\n",
       "      <td>13953.000000</td>\n",
       "    </tr>\n",
       "    <tr>\n",
       "      <td>50%</td>\n",
       "      <td>3.000000</td>\n",
       "      <td>2.080000</td>\n",
       "      <td>15152.000000</td>\n",
       "    </tr>\n",
       "    <tr>\n",
       "      <td>75%</td>\n",
       "      <td>10.000000</td>\n",
       "      <td>4.130000</td>\n",
       "      <td>16791.000000</td>\n",
       "    </tr>\n",
       "    <tr>\n",
       "      <td>max</td>\n",
       "      <td>80995.000000</td>\n",
       "      <td>38970.000000</td>\n",
       "      <td>18287.000000</td>\n",
       "    </tr>\n",
       "  </tbody>\n",
       "</table>\n",
       "</div>"
      ],
      "text/plain": [
       "            Quantity      UnitPrice     CustomerID\n",
       "count  541909.000000  541909.000000  406829.000000\n",
       "mean        9.552250       4.611114   15287.690570\n",
       "std       218.081158      96.759853    1713.600303\n",
       "min    -80995.000000  -11062.060000   12346.000000\n",
       "25%         1.000000       1.250000   13953.000000\n",
       "50%         3.000000       2.080000   15152.000000\n",
       "75%        10.000000       4.130000   16791.000000\n",
       "max     80995.000000   38970.000000   18287.000000"
      ]
     },
     "execution_count": 376,
     "metadata": {},
     "output_type": "execute_result"
    }
   ],
   "source": [
    "# Transaction Level\n",
    "da.describe()"
   ]
  },
  {
   "cell_type": "code",
   "execution_count": 377,
   "metadata": {
    "ExecuteTime": {
     "end_time": "2020-08-07T16:42:17.642936Z",
     "start_time": "2020-08-07T16:42:17.636951Z"
    }
   },
   "outputs": [
    {
     "data": {
      "text/plain": [
       "(541909, 8)"
      ]
     },
     "execution_count": 377,
     "metadata": {},
     "output_type": "execute_result"
    }
   ],
   "source": [
    "da.shape"
   ]
  },
  {
   "cell_type": "markdown",
   "metadata": {},
   "source": [
    "## Data Cleaning"
   ]
  },
  {
   "cell_type": "code",
   "execution_count": 378,
   "metadata": {
    "ExecuteTime": {
     "end_time": "2020-08-07T16:42:23.948081Z",
     "start_time": "2020-08-07T16:42:17.795528Z"
    }
   },
   "outputs": [
    {
     "data": {
      "text/html": [
       "<div>\n",
       "<style scoped>\n",
       "    .dataframe tbody tr th:only-of-type {\n",
       "        vertical-align: middle;\n",
       "    }\n",
       "\n",
       "    .dataframe tbody tr th {\n",
       "        vertical-align: top;\n",
       "    }\n",
       "\n",
       "    .dataframe thead th {\n",
       "        text-align: right;\n",
       "    }\n",
       "</style>\n",
       "<table border=\"1\" class=\"dataframe\">\n",
       "  <thead>\n",
       "    <tr style=\"text-align: right;\">\n",
       "      <th></th>\n",
       "      <th>InvoiceNo</th>\n",
       "      <th>StockCode</th>\n",
       "      <th>Description</th>\n",
       "      <th>Quantity</th>\n",
       "      <th>InvoiceDate</th>\n",
       "      <th>UnitPrice</th>\n",
       "      <th>CustomerID</th>\n",
       "      <th>Country</th>\n",
       "      <th>Date</th>\n",
       "      <th>Time</th>\n",
       "      <th>Amount</th>\n",
       "    </tr>\n",
       "  </thead>\n",
       "  <tbody>\n",
       "    <tr>\n",
       "      <td>0</td>\n",
       "      <td>536365</td>\n",
       "      <td>85123A</td>\n",
       "      <td>WHITE HANGING HEART T-LIGHT HOLDER</td>\n",
       "      <td>6</td>\n",
       "      <td>2010-12-01 08:26:00</td>\n",
       "      <td>2.55</td>\n",
       "      <td>17850.0</td>\n",
       "      <td>United Kingdom</td>\n",
       "      <td>2010-12-01</td>\n",
       "      <td>08:26:00</td>\n",
       "      <td>15.30</td>\n",
       "    </tr>\n",
       "    <tr>\n",
       "      <td>1</td>\n",
       "      <td>536365</td>\n",
       "      <td>71053</td>\n",
       "      <td>WHITE METAL LANTERN</td>\n",
       "      <td>6</td>\n",
       "      <td>2010-12-01 08:26:00</td>\n",
       "      <td>3.39</td>\n",
       "      <td>17850.0</td>\n",
       "      <td>United Kingdom</td>\n",
       "      <td>2010-12-01</td>\n",
       "      <td>08:26:00</td>\n",
       "      <td>20.34</td>\n",
       "    </tr>\n",
       "    <tr>\n",
       "      <td>2</td>\n",
       "      <td>536365</td>\n",
       "      <td>84406B</td>\n",
       "      <td>CREAM CUPID HEARTS COAT HANGER</td>\n",
       "      <td>8</td>\n",
       "      <td>2010-12-01 08:26:00</td>\n",
       "      <td>2.75</td>\n",
       "      <td>17850.0</td>\n",
       "      <td>United Kingdom</td>\n",
       "      <td>2010-12-01</td>\n",
       "      <td>08:26:00</td>\n",
       "      <td>22.00</td>\n",
       "    </tr>\n",
       "    <tr>\n",
       "      <td>3</td>\n",
       "      <td>536365</td>\n",
       "      <td>84029G</td>\n",
       "      <td>KNITTED UNION FLAG HOT WATER BOTTLE</td>\n",
       "      <td>6</td>\n",
       "      <td>2010-12-01 08:26:00</td>\n",
       "      <td>3.39</td>\n",
       "      <td>17850.0</td>\n",
       "      <td>United Kingdom</td>\n",
       "      <td>2010-12-01</td>\n",
       "      <td>08:26:00</td>\n",
       "      <td>20.34</td>\n",
       "    </tr>\n",
       "    <tr>\n",
       "      <td>4</td>\n",
       "      <td>536365</td>\n",
       "      <td>84029E</td>\n",
       "      <td>RED WOOLLY HOTTIE WHITE HEART.</td>\n",
       "      <td>6</td>\n",
       "      <td>2010-12-01 08:26:00</td>\n",
       "      <td>3.39</td>\n",
       "      <td>17850.0</td>\n",
       "      <td>United Kingdom</td>\n",
       "      <td>2010-12-01</td>\n",
       "      <td>08:26:00</td>\n",
       "      <td>20.34</td>\n",
       "    </tr>\n",
       "  </tbody>\n",
       "</table>\n",
       "</div>"
      ],
      "text/plain": [
       "  InvoiceNo StockCode                          Description  Quantity  \\\n",
       "0    536365    85123A   WHITE HANGING HEART T-LIGHT HOLDER         6   \n",
       "1    536365     71053                  WHITE METAL LANTERN         6   \n",
       "2    536365    84406B       CREAM CUPID HEARTS COAT HANGER         8   \n",
       "3    536365    84029G  KNITTED UNION FLAG HOT WATER BOTTLE         6   \n",
       "4    536365    84029E       RED WOOLLY HOTTIE WHITE HEART.         6   \n",
       "\n",
       "          InvoiceDate  UnitPrice  CustomerID         Country        Date  \\\n",
       "0 2010-12-01 08:26:00       2.55     17850.0  United Kingdom  2010-12-01   \n",
       "1 2010-12-01 08:26:00       3.39     17850.0  United Kingdom  2010-12-01   \n",
       "2 2010-12-01 08:26:00       2.75     17850.0  United Kingdom  2010-12-01   \n",
       "3 2010-12-01 08:26:00       3.39     17850.0  United Kingdom  2010-12-01   \n",
       "4 2010-12-01 08:26:00       3.39     17850.0  United Kingdom  2010-12-01   \n",
       "\n",
       "       Time  Amount  \n",
       "0  08:26:00   15.30  \n",
       "1  08:26:00   20.34  \n",
       "2  08:26:00   22.00  \n",
       "3  08:26:00   20.34  \n",
       "4  08:26:00   20.34  "
      ]
     },
     "execution_count": 378,
     "metadata": {},
     "output_type": "execute_result"
    }
   ],
   "source": [
    "da['Date'] = da['InvoiceDate'].apply(lambda x : x.date())\n",
    "da['Time'] = da['InvoiceDate'].apply(lambda x : x.time())\n",
    "da['Amount'] = da['Quantity'] * da['UnitPrice']\n",
    "da.head()"
   ]
  },
  {
   "cell_type": "markdown",
   "metadata": {},
   "source": [
    " We see that null values are present in the columns Description and CustomerID"
   ]
  },
  {
   "cell_type": "code",
   "execution_count": 379,
   "metadata": {
    "ExecuteTime": {
     "end_time": "2020-08-07T16:42:24.420818Z",
     "start_time": "2020-08-07T16:42:24.129597Z"
    }
   },
   "outputs": [
    {
     "data": {
      "text/plain": [
       "InvoiceNo           0\n",
       "StockCode           0\n",
       "Description      1454\n",
       "Quantity            0\n",
       "InvoiceDate         0\n",
       "UnitPrice           0\n",
       "CustomerID     135080\n",
       "Country             0\n",
       "Date                0\n",
       "Time                0\n",
       "Amount              0\n",
       "dtype: int64"
      ]
     },
     "execution_count": 379,
     "metadata": {},
     "output_type": "execute_result"
    }
   ],
   "source": [
    "da.isnull().sum()"
   ]
  },
  {
   "cell_type": "markdown",
   "metadata": {},
   "source": [
    "We also see that Quantity and Unit Price has negative values which is not possible."
   ]
  },
  {
   "cell_type": "code",
   "execution_count": 380,
   "metadata": {
    "ExecuteTime": {
     "end_time": "2020-08-07T16:42:28.496920Z",
     "start_time": "2020-08-07T16:42:24.661174Z"
    }
   },
   "outputs": [
    {
     "data": {
      "text/plain": [
       "InvoiceNo      25900\n",
       "StockCode       4070\n",
       "Description     4223\n",
       "Quantity         722\n",
       "InvoiceDate    23260\n",
       "UnitPrice       1630\n",
       "CustomerID      4372\n",
       "Country           38\n",
       "Date             305\n",
       "Time             774\n",
       "Amount          6204\n",
       "dtype: int64"
      ]
     },
     "execution_count": 380,
     "metadata": {},
     "output_type": "execute_result"
    }
   ],
   "source": [
    "da.nunique()"
   ]
  },
  {
   "cell_type": "markdown",
   "metadata": {},
   "source": [
    "### Description : Cleaning"
   ]
  },
  {
   "cell_type": "code",
   "execution_count": 381,
   "metadata": {
    "ExecuteTime": {
     "end_time": "2020-08-07T16:44:51.891641Z",
     "start_time": "2020-08-07T16:42:28.721322Z"
    }
   },
   "outputs": [],
   "source": [
    "#stock_desc_dict = dict(list(zip(da.StockCode, da.Description)))\n",
    "stock_desc_dict = {}\n",
    "for sc in da.StockCode.unique():\n",
    "    desc = list(da[da['StockCode'] == sc]['Description'].unique())\n",
    "    if sc in stock_desc_dict:\n",
    "        for des in desc:\n",
    "            if des not in stock_desc_dict[sc]:\n",
    "                stock_desc_dict[sc].append(des)\n",
    "    else:\n",
    "        stock_desc_dict.update({sc : desc})"
   ]
  },
  {
   "cell_type": "code",
   "execution_count": 382,
   "metadata": {
    "ExecuteTime": {
     "end_time": "2020-08-07T16:44:52.052120Z",
     "start_time": "2020-08-07T16:44:52.043144Z"
    }
   },
   "outputs": [],
   "source": [
    "multi_values = [value for key, value in stock_desc_dict.items() if len(value) > 1]\n",
    "keys_multi_values = [[key, value] for key, value in stock_desc_dict.items() if len(value) > 1]\n",
    "all_multi_values = []\n",
    "for value in multi_values:\n",
    "    all_multi_values.extend(value)\n",
    "all_multi_values = list(set(all_multi_values))"
   ]
  },
  {
   "cell_type": "code",
   "execution_count": 383,
   "metadata": {
    "ExecuteTime": {
     "end_time": "2020-08-07T16:44:52.354312Z",
     "start_time": "2020-08-07T16:44:52.206707Z"
    }
   },
   "outputs": [],
   "source": [
    "abnormal_description_pattern = \"[a-z?]\"\n",
    "\n",
    "abnormal_description = [str(desc) for desc in list(set(list(da.Description))) if pd.isnull(desc) == False and re.search(abnormal_description_pattern, str(desc))]\n",
    "normal_description = list(set(list(da.Description)).difference(set(abnormal_description)))"
   ]
  },
  {
   "cell_type": "code",
   "execution_count": 384,
   "metadata": {
    "ExecuteTime": {
     "end_time": "2020-08-07T16:44:52.534831Z",
     "start_time": "2020-08-07T16:44:52.513889Z"
    }
   },
   "outputs": [
    {
     "data": {
      "text/plain": [
       "['AMAZON', 'DAMAGED', 'AMAZON FEE']"
      ]
     },
     "execution_count": 384,
     "metadata": {},
     "output_type": "execute_result"
    }
   ],
   "source": [
    "[i for i in normal_description if str(i).lower().find('amaz') != -1 or str(i).lower().find('dam') != -1 or str(i).lower().find('?') != -1]"
   ]
  },
  {
   "cell_type": "code",
   "execution_count": 385,
   "metadata": {
    "ExecuteTime": {
     "end_time": "2020-08-07T16:44:52.818073Z",
     "start_time": "2020-08-07T16:44:52.811092Z"
    },
    "scrolled": true
   },
   "outputs": [],
   "source": [
    "#pd.Series(abnormal_description).iloc[200:]\n",
    "#da[da['Description'].isin()]\n",
    "\n",
    "actually_normal = list(set(['BAG 500g SWIRLY MARBLES', 'BAG 125g SWIRLY MARBLES', 'NUMBER TILE VINTAGE FONT No ', \n",
    "'FRENCH BLUE METAL DOOR SIGN No', 'POLYESTER FILLER PAD 30CMx30CM', 'POLYESTER FILLER PAD 40x40cm', \n",
    "'POLYESTER FILLER PAD 45x30cm', 'POLYESTER FILLER PAD 45x45cm', 'POLYESTER FILLER PAD 60x40cm', \n",
    "'POLYESTER FILLER PAD 65CMx65CM', 'ESSENTIAL BALM 3.5g TIN IN ENVELOPE', 'NUMBER TILE COTTAGE GARDEN No',\n",
    "'FOLK ART GREETING CARD,pack/12', 'FLOWERS HANDBAG blue and orange',\n",
    "'THE KING GIFT BAG 25x24x12cm', '3 TRADITIONAl BISCUIT CUTTERS  SET']))"
   ]
  },
  {
   "cell_type": "code",
   "execution_count": 386,
   "metadata": {
    "ExecuteTime": {
     "end_time": "2020-08-07T16:44:53.002579Z",
     "start_time": "2020-08-07T16:44:52.996595Z"
    }
   },
   "outputs": [],
   "source": [
    "normal_description.extend(actually_normal)\n",
    "normal_description = list(set(normal_description))"
   ]
  },
  {
   "cell_type": "code",
   "execution_count": 387,
   "metadata": {
    "ExecuteTime": {
     "end_time": "2020-08-07T16:44:53.208031Z",
     "start_time": "2020-08-07T16:44:53.202049Z"
    },
    "scrolled": true
   },
   "outputs": [],
   "source": [
    "#normal_description = list(set(normal_description.extend(actually_normal)))\n",
    "abnormal_description = list(set(abnormal_description).difference(set(actually_normal)))"
   ]
  },
  {
   "cell_type": "code",
   "execution_count": 388,
   "metadata": {
    "ExecuteTime": {
     "end_time": "2020-08-07T16:44:53.378577Z",
     "start_time": "2020-08-07T16:44:53.372590Z"
    }
   },
   "outputs": [
    {
     "name": "stdout",
     "output_type": "stream",
     "text": [
      "4035 189\n"
     ]
    }
   ],
   "source": [
    "print(len(list(set(normal_description))), len(list(set(abnormal_description))))"
   ]
  },
  {
   "cell_type": "code",
   "execution_count": 389,
   "metadata": {
    "ExecuteTime": {
     "end_time": "2020-08-07T16:44:53.545130Z",
     "start_time": "2020-08-07T16:44:53.538148Z"
    }
   },
   "outputs": [],
   "source": [
    "actually_abnormal = ['DAMAGED', 'AMAZON', 'AMAZON FEE']\n",
    "\n",
    "abnormal_description.extend(actually_abnormal)\n",
    "abnormal_description = list(set(abnormal_description))"
   ]
  },
  {
   "cell_type": "code",
   "execution_count": 390,
   "metadata": {
    "ExecuteTime": {
     "end_time": "2020-08-07T16:44:53.745595Z",
     "start_time": "2020-08-07T16:44:53.737616Z"
    }
   },
   "outputs": [],
   "source": [
    "normal_description = list(set(normal_description).difference(set(actually_abnormal)))"
   ]
  },
  {
   "cell_type": "code",
   "execution_count": 391,
   "metadata": {
    "ExecuteTime": {
     "end_time": "2020-08-07T16:44:53.951076Z",
     "start_time": "2020-08-07T16:44:53.919131Z"
    },
    "scrolled": true
   },
   "outputs": [],
   "source": [
    "null_desc = da[da['Description'].isnull()]"
   ]
  },
  {
   "cell_type": "markdown",
   "metadata": {},
   "source": [
    "### Unit Price : Cleaning\n",
    "\n",
    "We have 2515 records with a unit price of value 0. We probe further to understand the reason for it."
   ]
  },
  {
   "cell_type": "code",
   "execution_count": 392,
   "metadata": {
    "ExecuteTime": {
     "end_time": "2020-08-07T16:44:54.120623Z",
     "start_time": "2020-08-07T16:44:54.111614Z"
    },
    "scrolled": true
   },
   "outputs": [],
   "source": [
    "unit_zero = da[da['UnitPrice'] == 0]"
   ]
  },
  {
   "cell_type": "code",
   "execution_count": 393,
   "metadata": {
    "ExecuteTime": {
     "end_time": "2020-08-07T16:44:54.313077Z",
     "start_time": "2020-08-07T16:44:54.292133Z"
    },
    "scrolled": true
   },
   "outputs": [
    {
     "data": {
      "text/html": [
       "<div>\n",
       "<style scoped>\n",
       "    .dataframe tbody tr th:only-of-type {\n",
       "        vertical-align: middle;\n",
       "    }\n",
       "\n",
       "    .dataframe tbody tr th {\n",
       "        vertical-align: top;\n",
       "    }\n",
       "\n",
       "    .dataframe thead th {\n",
       "        text-align: right;\n",
       "    }\n",
       "</style>\n",
       "<table border=\"1\" class=\"dataframe\">\n",
       "  <thead>\n",
       "    <tr style=\"text-align: right;\">\n",
       "      <th></th>\n",
       "      <th>InvoiceNo</th>\n",
       "      <th>StockCode</th>\n",
       "      <th>Description</th>\n",
       "      <th>Quantity</th>\n",
       "      <th>InvoiceDate</th>\n",
       "      <th>UnitPrice</th>\n",
       "      <th>CustomerID</th>\n",
       "      <th>Country</th>\n",
       "      <th>Date</th>\n",
       "      <th>Time</th>\n",
       "      <th>Amount</th>\n",
       "    </tr>\n",
       "  </thead>\n",
       "  <tbody>\n",
       "    <tr>\n",
       "      <td>622</td>\n",
       "      <td>536414</td>\n",
       "      <td>22139</td>\n",
       "      <td>NaN</td>\n",
       "      <td>56</td>\n",
       "      <td>2010-12-01 11:52:00</td>\n",
       "      <td>0.0</td>\n",
       "      <td>NaN</td>\n",
       "      <td>United Kingdom</td>\n",
       "      <td>2010-12-01</td>\n",
       "      <td>11:52:00</td>\n",
       "      <td>0.0</td>\n",
       "    </tr>\n",
       "    <tr>\n",
       "      <td>1970</td>\n",
       "      <td>536545</td>\n",
       "      <td>21134</td>\n",
       "      <td>NaN</td>\n",
       "      <td>1</td>\n",
       "      <td>2010-12-01 14:32:00</td>\n",
       "      <td>0.0</td>\n",
       "      <td>NaN</td>\n",
       "      <td>United Kingdom</td>\n",
       "      <td>2010-12-01</td>\n",
       "      <td>14:32:00</td>\n",
       "      <td>0.0</td>\n",
       "    </tr>\n",
       "    <tr>\n",
       "      <td>1971</td>\n",
       "      <td>536546</td>\n",
       "      <td>22145</td>\n",
       "      <td>NaN</td>\n",
       "      <td>1</td>\n",
       "      <td>2010-12-01 14:33:00</td>\n",
       "      <td>0.0</td>\n",
       "      <td>NaN</td>\n",
       "      <td>United Kingdom</td>\n",
       "      <td>2010-12-01</td>\n",
       "      <td>14:33:00</td>\n",
       "      <td>0.0</td>\n",
       "    </tr>\n",
       "    <tr>\n",
       "      <td>1972</td>\n",
       "      <td>536547</td>\n",
       "      <td>37509</td>\n",
       "      <td>NaN</td>\n",
       "      <td>1</td>\n",
       "      <td>2010-12-01 14:33:00</td>\n",
       "      <td>0.0</td>\n",
       "      <td>NaN</td>\n",
       "      <td>United Kingdom</td>\n",
       "      <td>2010-12-01</td>\n",
       "      <td>14:33:00</td>\n",
       "      <td>0.0</td>\n",
       "    </tr>\n",
       "    <tr>\n",
       "      <td>1987</td>\n",
       "      <td>536549</td>\n",
       "      <td>85226A</td>\n",
       "      <td>NaN</td>\n",
       "      <td>1</td>\n",
       "      <td>2010-12-01 14:34:00</td>\n",
       "      <td>0.0</td>\n",
       "      <td>NaN</td>\n",
       "      <td>United Kingdom</td>\n",
       "      <td>2010-12-01</td>\n",
       "      <td>14:34:00</td>\n",
       "      <td>0.0</td>\n",
       "    </tr>\n",
       "  </tbody>\n",
       "</table>\n",
       "</div>"
      ],
      "text/plain": [
       "     InvoiceNo StockCode Description  Quantity         InvoiceDate  UnitPrice  \\\n",
       "622     536414     22139         NaN        56 2010-12-01 11:52:00        0.0   \n",
       "1970    536545     21134         NaN         1 2010-12-01 14:32:00        0.0   \n",
       "1971    536546     22145         NaN         1 2010-12-01 14:33:00        0.0   \n",
       "1972    536547     37509         NaN         1 2010-12-01 14:33:00        0.0   \n",
       "1987    536549    85226A         NaN         1 2010-12-01 14:34:00        0.0   \n",
       "\n",
       "      CustomerID         Country        Date      Time  Amount  \n",
       "622          NaN  United Kingdom  2010-12-01  11:52:00     0.0  \n",
       "1970         NaN  United Kingdom  2010-12-01  14:32:00     0.0  \n",
       "1971         NaN  United Kingdom  2010-12-01  14:33:00     0.0  \n",
       "1972         NaN  United Kingdom  2010-12-01  14:33:00     0.0  \n",
       "1987         NaN  United Kingdom  2010-12-01  14:34:00     0.0  "
      ]
     },
     "execution_count": 393,
     "metadata": {},
     "output_type": "execute_result"
    }
   ],
   "source": [
    "unit_zero.sort_values('InvoiceNo').head(5)"
   ]
  },
  {
   "cell_type": "markdown",
   "metadata": {},
   "source": [
    "The total number of null descriptions we observed in the dataset was 1454.\\\n",
    "All the 1454 null descriptions have an unit price of zero."
   ]
  },
  {
   "cell_type": "code",
   "execution_count": 394,
   "metadata": {
    "ExecuteTime": {
     "end_time": "2020-08-07T16:44:54.467664Z",
     "start_time": "2020-08-07T16:44:54.453734Z"
    }
   },
   "outputs": [
    {
     "data": {
      "text/plain": [
       "InvoiceNo         0\n",
       "StockCode         0\n",
       "Description    1454\n",
       "Quantity          0\n",
       "InvoiceDate       0\n",
       "UnitPrice         0\n",
       "CustomerID     2475\n",
       "Country           0\n",
       "Date              0\n",
       "Time              0\n",
       "Amount            0\n",
       "dtype: int64"
      ]
     },
     "execution_count": 394,
     "metadata": {},
     "output_type": "execute_result"
    }
   ],
   "source": [
    "unit_zero.isnull().sum()"
   ]
  },
  {
   "cell_type": "markdown",
   "metadata": {},
   "source": [
    "All null descriptions have Customer ID also as zero\n",
    "\n",
    "&#8594; Thus it is good enough to omit the rest of the records with zero unit priceThis gives us enough support to omit records with unit price of value 0 which inturn also removes all null descriptions encountered in the dataset"
   ]
  },
  {
   "cell_type": "code",
   "execution_count": 395,
   "metadata": {
    "ExecuteTime": {
     "end_time": "2020-08-07T16:44:54.666133Z",
     "start_time": "2020-08-07T16:44:54.655162Z"
    }
   },
   "outputs": [
    {
     "data": {
      "text/plain": [
       "1454"
      ]
     },
     "execution_count": 395,
     "metadata": {},
     "output_type": "execute_result"
    }
   ],
   "source": [
    "unit_zero[unit_zero['Description'].isnull()]['CustomerID'].isnull().sum()"
   ]
  },
  {
   "cell_type": "markdown",
   "metadata": {},
   "source": [
    "Below we check if it is safe to remove the other records which has a unit price of value 0 or if it can be imputed and used in any manner"
   ]
  },
  {
   "cell_type": "code",
   "execution_count": 396,
   "metadata": {
    "ExecuteTime": {
     "end_time": "2020-08-07T16:44:54.869592Z",
     "start_time": "2020-08-07T16:44:54.858619Z"
    }
   },
   "outputs": [
    {
     "data": {
      "text/plain": [
       "2155"
      ]
     },
     "execution_count": 396,
     "metadata": {},
     "output_type": "execute_result"
    }
   ],
   "source": [
    "unit_zero['InvoiceNo'].nunique()"
   ]
  },
  {
   "cell_type": "code",
   "execution_count": 397,
   "metadata": {
    "ExecuteTime": {
     "end_time": "2020-08-07T16:44:55.055093Z",
     "start_time": "2020-08-07T16:44:55.044122Z"
    },
    "scrolled": true
   },
   "outputs": [
    {
     "data": {
      "text/plain": [
       "539856    64\n",
       "537534    57\n",
       "545176    49\n",
       "553521    40\n",
       "558340    35\n",
       "Name: InvoiceNo, dtype: int64"
      ]
     },
     "execution_count": 397,
     "metadata": {},
     "output_type": "execute_result"
    }
   ],
   "source": [
    "unit_zero['InvoiceNo'].value_counts().head()"
   ]
  },
  {
   "cell_type": "code",
   "execution_count": 398,
   "metadata": {
    "ExecuteTime": {
     "end_time": "2020-08-07T16:44:55.229626Z",
     "start_time": "2020-08-07T16:44:55.206696Z"
    },
    "scrolled": true
   },
   "outputs": [],
   "source": [
    "unit_zero_one_invoice = unit_zero['InvoiceNo'].value_counts().reset_index().query(\"InvoiceNo == 1\")['index'].tolist()\n",
    "unit_zero_one_invoice_desc = unit_zero[unit_zero['InvoiceNo'].isin(unit_zero_one_invoice)]['Description'].unique().tolist()"
   ]
  },
  {
   "cell_type": "code",
   "execution_count": 399,
   "metadata": {
    "ExecuteTime": {
     "end_time": "2020-08-07T16:44:55.414132Z",
     "start_time": "2020-08-07T16:44:55.399175Z"
    },
    "scrolled": true
   },
   "outputs": [
    {
     "data": {
      "text/plain": [
       "check      159\n",
       "?           47\n",
       "damages     45\n",
       "damaged     43\n",
       "found       25\n",
       "Name: Description, dtype: int64"
      ]
     },
     "execution_count": 399,
     "metadata": {},
     "output_type": "execute_result"
    }
   ],
   "source": [
    "unit_zero[unit_zero['InvoiceNo'].isin(unit_zero_one_invoice)]['Description'].value_counts().head()"
   ]
  },
  {
   "cell_type": "code",
   "execution_count": 400,
   "metadata": {
    "ExecuteTime": {
     "end_time": "2020-08-07T16:44:55.578697Z",
     "start_time": "2020-08-07T16:44:55.571713Z"
    }
   },
   "outputs": [
    {
     "data": {
      "text/plain": [
       "174"
      ]
     },
     "execution_count": 400,
     "metadata": {},
     "output_type": "execute_result"
    }
   ],
   "source": [
    "len(list(set(unit_zero_one_invoice_desc).intersection(set(abnormal_description))))"
   ]
  },
  {
   "cell_type": "markdown",
   "metadata": {},
   "source": [
    "From both the value_counts and the intersection with the abnormal description it is clear that there are only less valid descriptions."
   ]
  },
  {
   "cell_type": "code",
   "execution_count": 401,
   "metadata": {
    "ExecuteTime": {
     "end_time": "2020-08-07T16:44:55.750233Z",
     "start_time": "2020-08-07T16:44:55.734277Z"
    }
   },
   "outputs": [],
   "source": [
    "unit_zero_cons_inv = unit_zero['InvoiceNo'].value_counts().reset_index().query(\"InvoiceNo > 1\")['index'].tolist()"
   ]
  },
  {
   "cell_type": "code",
   "execution_count": 402,
   "metadata": {
    "ExecuteTime": {
     "end_time": "2020-08-07T16:44:55.980620Z",
     "start_time": "2020-08-07T16:44:55.919781Z"
    },
    "scrolled": true
   },
   "outputs": [],
   "source": [
    "unit_zero_cons_inv_price = pd.DataFrame(da[da['InvoiceNo'].isin(unit_zero_cons_inv)].groupby('InvoiceNo')['UnitPrice'].value_counts())  #539856"
   ]
  },
  {
   "cell_type": "markdown",
   "metadata": {},
   "source": [
    " Certain InvoiceNo have one entry called Manual, which records the entire cost of the transaction"
   ]
  },
  {
   "cell_type": "code",
   "execution_count": 404,
   "metadata": {
    "ExecuteTime": {
     "end_time": "2020-08-07T16:45:37.343411Z",
     "start_time": "2020-08-07T16:45:37.311466Z"
    },
    "scrolled": true
   },
   "outputs": [
    {
     "data": {
      "text/html": [
       "<div>\n",
       "<style scoped>\n",
       "    .dataframe tbody tr th:only-of-type {\n",
       "        vertical-align: middle;\n",
       "    }\n",
       "\n",
       "    .dataframe tbody tr th {\n",
       "        vertical-align: top;\n",
       "    }\n",
       "\n",
       "    .dataframe thead th {\n",
       "        text-align: right;\n",
       "    }\n",
       "</style>\n",
       "<table border=\"1\" class=\"dataframe\">\n",
       "  <thead>\n",
       "    <tr style=\"text-align: right;\">\n",
       "      <th></th>\n",
       "      <th>InvoiceNo</th>\n",
       "      <th>StockCode</th>\n",
       "      <th>Description</th>\n",
       "      <th>Quantity</th>\n",
       "      <th>InvoiceDate</th>\n",
       "      <th>UnitPrice</th>\n",
       "      <th>CustomerID</th>\n",
       "      <th>Country</th>\n",
       "      <th>Date</th>\n",
       "      <th>Time</th>\n",
       "      <th>Amount</th>\n",
       "    </tr>\n",
       "  </thead>\n",
       "  <tbody>\n",
       "    <tr>\n",
       "      <td>285657</td>\n",
       "      <td>561916</td>\n",
       "      <td>M</td>\n",
       "      <td>Manual</td>\n",
       "      <td>1</td>\n",
       "      <td>2011-08-01 11:44:00</td>\n",
       "      <td>0.0</td>\n",
       "      <td>15581.0</td>\n",
       "      <td>United Kingdom</td>\n",
       "      <td>2011-08-01</td>\n",
       "      <td>11:44:00</td>\n",
       "      <td>0.0</td>\n",
       "    </tr>\n",
       "    <tr>\n",
       "      <td>361825</td>\n",
       "      <td>568384</td>\n",
       "      <td>M</td>\n",
       "      <td>Manual</td>\n",
       "      <td>1</td>\n",
       "      <td>2011-09-27 09:46:00</td>\n",
       "      <td>0.0</td>\n",
       "      <td>12748.0</td>\n",
       "      <td>United Kingdom</td>\n",
       "      <td>2011-09-27</td>\n",
       "      <td>09:46:00</td>\n",
       "      <td>0.0</td>\n",
       "    </tr>\n",
       "    <tr>\n",
       "      <td>395529</td>\n",
       "      <td>571035</td>\n",
       "      <td>M</td>\n",
       "      <td>Manual</td>\n",
       "      <td>1</td>\n",
       "      <td>2011-10-13 12:50:00</td>\n",
       "      <td>0.0</td>\n",
       "      <td>12446.0</td>\n",
       "      <td>RSA</td>\n",
       "      <td>2011-10-13</td>\n",
       "      <td>12:50:00</td>\n",
       "      <td>0.0</td>\n",
       "    </tr>\n",
       "    <tr>\n",
       "      <td>436961</td>\n",
       "      <td>574252</td>\n",
       "      <td>M</td>\n",
       "      <td>Manual</td>\n",
       "      <td>1</td>\n",
       "      <td>2011-11-03 13:24:00</td>\n",
       "      <td>0.0</td>\n",
       "      <td>12437.0</td>\n",
       "      <td>France</td>\n",
       "      <td>2011-11-03</td>\n",
       "      <td>13:24:00</td>\n",
       "      <td>0.0</td>\n",
       "    </tr>\n",
       "    <tr>\n",
       "      <td>479546</td>\n",
       "      <td>577168</td>\n",
       "      <td>M</td>\n",
       "      <td>Manual</td>\n",
       "      <td>1</td>\n",
       "      <td>2011-11-18 10:42:00</td>\n",
       "      <td>0.0</td>\n",
       "      <td>12603.0</td>\n",
       "      <td>Germany</td>\n",
       "      <td>2011-11-18</td>\n",
       "      <td>10:42:00</td>\n",
       "      <td>0.0</td>\n",
       "    </tr>\n",
       "    <tr>\n",
       "      <td>485985</td>\n",
       "      <td>577696</td>\n",
       "      <td>M</td>\n",
       "      <td>Manual</td>\n",
       "      <td>1</td>\n",
       "      <td>2011-11-21 11:57:00</td>\n",
       "      <td>0.0</td>\n",
       "      <td>16406.0</td>\n",
       "      <td>United Kingdom</td>\n",
       "      <td>2011-11-21</td>\n",
       "      <td>11:57:00</td>\n",
       "      <td>0.0</td>\n",
       "    </tr>\n",
       "  </tbody>\n",
       "</table>\n",
       "</div>"
      ],
      "text/plain": [
       "       InvoiceNo StockCode Description  Quantity         InvoiceDate  \\\n",
       "285657    561916         M      Manual         1 2011-08-01 11:44:00   \n",
       "361825    568384         M      Manual         1 2011-09-27 09:46:00   \n",
       "395529    571035         M      Manual         1 2011-10-13 12:50:00   \n",
       "436961    574252         M      Manual         1 2011-11-03 13:24:00   \n",
       "479546    577168         M      Manual         1 2011-11-18 10:42:00   \n",
       "485985    577696         M      Manual         1 2011-11-21 11:57:00   \n",
       "\n",
       "        UnitPrice  CustomerID         Country        Date      Time  Amount  \n",
       "285657        0.0     15581.0  United Kingdom  2011-08-01  11:44:00     0.0  \n",
       "361825        0.0     12748.0  United Kingdom  2011-09-27  09:46:00     0.0  \n",
       "395529        0.0     12446.0             RSA  2011-10-13  12:50:00     0.0  \n",
       "436961        0.0     12437.0          France  2011-11-03  13:24:00     0.0  \n",
       "479546        0.0     12603.0         Germany  2011-11-18  10:42:00     0.0  \n",
       "485985        0.0     16406.0  United Kingdom  2011-11-21  11:57:00     0.0  "
      ]
     },
     "execution_count": 404,
     "metadata": {},
     "output_type": "execute_result"
    }
   ],
   "source": [
    "unit_zero[unit_zero['Description'] == 'Manual']"
   ]
  },
  {
   "cell_type": "code",
   "execution_count": 405,
   "metadata": {
    "ExecuteTime": {
     "end_time": "2020-08-07T16:45:41.237194Z",
     "start_time": "2020-08-07T16:45:41.180347Z"
    },
    "scrolled": true
   },
   "outputs": [
    {
     "data": {
      "text/html": [
       "<div>\n",
       "<style scoped>\n",
       "    .dataframe tbody tr th:only-of-type {\n",
       "        vertical-align: middle;\n",
       "    }\n",
       "\n",
       "    .dataframe tbody tr th {\n",
       "        vertical-align: top;\n",
       "    }\n",
       "\n",
       "    .dataframe thead th {\n",
       "        text-align: right;\n",
       "    }\n",
       "</style>\n",
       "<table border=\"1\" class=\"dataframe\">\n",
       "  <thead>\n",
       "    <tr style=\"text-align: right;\">\n",
       "      <th></th>\n",
       "      <th>InvoiceNo</th>\n",
       "      <th>StockCode</th>\n",
       "      <th>Description</th>\n",
       "      <th>Quantity</th>\n",
       "      <th>InvoiceDate</th>\n",
       "      <th>UnitPrice</th>\n",
       "      <th>CustomerID</th>\n",
       "      <th>Country</th>\n",
       "      <th>Date</th>\n",
       "      <th>Time</th>\n",
       "      <th>Amount</th>\n",
       "    </tr>\n",
       "  </thead>\n",
       "  <tbody>\n",
       "    <tr>\n",
       "      <td>2239</td>\n",
       "      <td>536569</td>\n",
       "      <td>M</td>\n",
       "      <td>Manual</td>\n",
       "      <td>1</td>\n",
       "      <td>2010-12-01 15:35:00</td>\n",
       "      <td>1.25</td>\n",
       "      <td>16274.0</td>\n",
       "      <td>United Kingdom</td>\n",
       "      <td>2010-12-01</td>\n",
       "      <td>15:35:00</td>\n",
       "      <td>1.25</td>\n",
       "    </tr>\n",
       "    <tr>\n",
       "      <td>2250</td>\n",
       "      <td>536569</td>\n",
       "      <td>M</td>\n",
       "      <td>Manual</td>\n",
       "      <td>1</td>\n",
       "      <td>2010-12-01 15:35:00</td>\n",
       "      <td>18.95</td>\n",
       "      <td>16274.0</td>\n",
       "      <td>United Kingdom</td>\n",
       "      <td>2010-12-01</td>\n",
       "      <td>15:35:00</td>\n",
       "      <td>18.95</td>\n",
       "    </tr>\n",
       "    <tr>\n",
       "      <td>5684</td>\n",
       "      <td>536865</td>\n",
       "      <td>M</td>\n",
       "      <td>Manual</td>\n",
       "      <td>1</td>\n",
       "      <td>2010-12-03 11:28:00</td>\n",
       "      <td>2.55</td>\n",
       "      <td>NaN</td>\n",
       "      <td>United Kingdom</td>\n",
       "      <td>2010-12-03</td>\n",
       "      <td>11:28:00</td>\n",
       "      <td>2.55</td>\n",
       "    </tr>\n",
       "    <tr>\n",
       "      <td>6798</td>\n",
       "      <td>536981</td>\n",
       "      <td>M</td>\n",
       "      <td>Manual</td>\n",
       "      <td>2</td>\n",
       "      <td>2010-12-03 14:26:00</td>\n",
       "      <td>0.85</td>\n",
       "      <td>14723.0</td>\n",
       "      <td>United Kingdom</td>\n",
       "      <td>2010-12-03</td>\n",
       "      <td>14:26:00</td>\n",
       "      <td>1.70</td>\n",
       "    </tr>\n",
       "    <tr>\n",
       "      <td>7976</td>\n",
       "      <td>537077</td>\n",
       "      <td>M</td>\n",
       "      <td>Manual</td>\n",
       "      <td>12</td>\n",
       "      <td>2010-12-05 11:59:00</td>\n",
       "      <td>0.42</td>\n",
       "      <td>17062.0</td>\n",
       "      <td>United Kingdom</td>\n",
       "      <td>2010-12-05</td>\n",
       "      <td>11:59:00</td>\n",
       "      <td>5.04</td>\n",
       "    </tr>\n",
       "  </tbody>\n",
       "</table>\n",
       "</div>"
      ],
      "text/plain": [
       "     InvoiceNo StockCode Description  Quantity         InvoiceDate  UnitPrice  \\\n",
       "2239    536569         M      Manual         1 2010-12-01 15:35:00       1.25   \n",
       "2250    536569         M      Manual         1 2010-12-01 15:35:00      18.95   \n",
       "5684    536865         M      Manual         1 2010-12-03 11:28:00       2.55   \n",
       "6798    536981         M      Manual         2 2010-12-03 14:26:00       0.85   \n",
       "7976    537077         M      Manual        12 2010-12-05 11:59:00       0.42   \n",
       "\n",
       "      CustomerID         Country        Date      Time  Amount  \n",
       "2239     16274.0  United Kingdom  2010-12-01  15:35:00    1.25  \n",
       "2250     16274.0  United Kingdom  2010-12-01  15:35:00   18.95  \n",
       "5684         NaN  United Kingdom  2010-12-03  11:28:00    2.55  \n",
       "6798     14723.0  United Kingdom  2010-12-03  14:26:00    1.70  \n",
       "7976     17062.0  United Kingdom  2010-12-05  11:59:00    5.04  "
      ]
     },
     "execution_count": 405,
     "metadata": {},
     "output_type": "execute_result"
    }
   ],
   "source": [
    "da[da['Description'] == 'Manual'].head()"
   ]
  },
  {
   "cell_type": "code",
   "execution_count": 406,
   "metadata": {
    "ExecuteTime": {
     "end_time": "2020-08-07T16:45:44.343939Z",
     "start_time": "2020-08-07T16:45:43.661745Z"
    },
    "scrolled": true
   },
   "outputs": [
    {
     "data": {
      "text/html": [
       "<div>\n",
       "<style scoped>\n",
       "    .dataframe tbody tr th:only-of-type {\n",
       "        vertical-align: middle;\n",
       "    }\n",
       "\n",
       "    .dataframe tbody tr th {\n",
       "        vertical-align: top;\n",
       "    }\n",
       "\n",
       "    .dataframe thead th {\n",
       "        text-align: right;\n",
       "    }\n",
       "</style>\n",
       "<table border=\"1\" class=\"dataframe\">\n",
       "  <thead>\n",
       "    <tr style=\"text-align: right;\">\n",
       "      <th></th>\n",
       "      <th>InvoiceNo</th>\n",
       "      <th>StockCode</th>\n",
       "      <th>Description</th>\n",
       "      <th>Quantity</th>\n",
       "      <th>InvoiceDate</th>\n",
       "      <th>UnitPrice</th>\n",
       "      <th>CustomerID</th>\n",
       "      <th>Country</th>\n",
       "      <th>Date</th>\n",
       "      <th>Time</th>\n",
       "      <th>Amount</th>\n",
       "    </tr>\n",
       "  </thead>\n",
       "  <tbody>\n",
       "    <tr>\n",
       "      <td>14716</td>\n",
       "      <td>C537610</td>\n",
       "      <td>M</td>\n",
       "      <td>Manual</td>\n",
       "      <td>-1</td>\n",
       "      <td>2010-12-07 13:23:00</td>\n",
       "      <td>631.31</td>\n",
       "      <td>NaN</td>\n",
       "      <td>United Kingdom</td>\n",
       "      <td>2010-12-07</td>\n",
       "      <td>13:23:00</td>\n",
       "      <td>-631.31</td>\n",
       "    </tr>\n",
       "    <tr>\n",
       "      <td>14728</td>\n",
       "      <td>C537613</td>\n",
       "      <td>M</td>\n",
       "      <td>Manual</td>\n",
       "      <td>-1</td>\n",
       "      <td>2010-12-07 13:28:00</td>\n",
       "      <td>313.78</td>\n",
       "      <td>NaN</td>\n",
       "      <td>United Kingdom</td>\n",
       "      <td>2010-12-07</td>\n",
       "      <td>13:28:00</td>\n",
       "      <td>-313.78</td>\n",
       "    </tr>\n",
       "    <tr>\n",
       "      <td>21758</td>\n",
       "      <td>C538124</td>\n",
       "      <td>M</td>\n",
       "      <td>Manual</td>\n",
       "      <td>-4</td>\n",
       "      <td>2010-12-09 15:43:00</td>\n",
       "      <td>0.50</td>\n",
       "      <td>15329.0</td>\n",
       "      <td>United Kingdom</td>\n",
       "      <td>2010-12-09</td>\n",
       "      <td>15:43:00</td>\n",
       "      <td>-2.00</td>\n",
       "    </tr>\n",
       "    <tr>\n",
       "      <td>23241</td>\n",
       "      <td>C538189</td>\n",
       "      <td>M</td>\n",
       "      <td>Manual</td>\n",
       "      <td>-1</td>\n",
       "      <td>2010-12-10 10:35:00</td>\n",
       "      <td>133.08</td>\n",
       "      <td>NaN</td>\n",
       "      <td>United Kingdom</td>\n",
       "      <td>2010-12-10</td>\n",
       "      <td>10:35:00</td>\n",
       "      <td>-133.08</td>\n",
       "    </tr>\n",
       "    <tr>\n",
       "      <td>28993</td>\n",
       "      <td>C538681</td>\n",
       "      <td>M</td>\n",
       "      <td>Manual</td>\n",
       "      <td>-1</td>\n",
       "      <td>2010-12-13 17:12:00</td>\n",
       "      <td>316.30</td>\n",
       "      <td>NaN</td>\n",
       "      <td>United Kingdom</td>\n",
       "      <td>2010-12-13</td>\n",
       "      <td>17:12:00</td>\n",
       "      <td>-316.30</td>\n",
       "    </tr>\n",
       "  </tbody>\n",
       "</table>\n",
       "</div>"
      ],
      "text/plain": [
       "      InvoiceNo StockCode Description  Quantity         InvoiceDate  \\\n",
       "14716   C537610         M      Manual        -1 2010-12-07 13:23:00   \n",
       "14728   C537613         M      Manual        -1 2010-12-07 13:28:00   \n",
       "21758   C538124         M      Manual        -4 2010-12-09 15:43:00   \n",
       "23241   C538189         M      Manual        -1 2010-12-10 10:35:00   \n",
       "28993   C538681         M      Manual        -1 2010-12-13 17:12:00   \n",
       "\n",
       "       UnitPrice  CustomerID         Country        Date      Time  Amount  \n",
       "14716     631.31         NaN  United Kingdom  2010-12-07  13:23:00 -631.31  \n",
       "14728     313.78         NaN  United Kingdom  2010-12-07  13:28:00 -313.78  \n",
       "21758       0.50     15329.0  United Kingdom  2010-12-09  15:43:00   -2.00  \n",
       "23241     133.08         NaN  United Kingdom  2010-12-10  10:35:00 -133.08  \n",
       "28993     316.30         NaN  United Kingdom  2010-12-13  17:12:00 -316.30  "
      ]
     },
     "execution_count": 406,
     "metadata": {},
     "output_type": "execute_result"
    }
   ],
   "source": [
    "da[(da['Description'] == 'Manual') & (da['InvoiceNo'].str.contains(\"^C\", na = False, regex = True))].head()"
   ]
  },
  {
   "cell_type": "code",
   "execution_count": 407,
   "metadata": {
    "ExecuteTime": {
     "end_time": "2020-08-07T16:45:47.132606Z",
     "start_time": "2020-08-07T16:45:47.087727Z"
    },
    "scrolled": true
   },
   "outputs": [
    {
     "data": {
      "text/plain": [
       "518"
      ]
     },
     "execution_count": 407,
     "metadata": {},
     "output_type": "execute_result"
    }
   ],
   "source": [
    "da[(da['Description'] == 'Manual')]['InvoiceNo'].nunique()"
   ]
  },
  {
   "cell_type": "code",
   "execution_count": 408,
   "metadata": {
    "ExecuteTime": {
     "end_time": "2020-08-07T16:45:48.505205Z",
     "start_time": "2020-08-07T16:45:48.380532Z"
    }
   },
   "outputs": [
    {
     "name": "stdout",
     "output_type": "stream",
     "text": [
      "                     UnitPrice\n",
      "InvoiceNo UnitPrice           \n",
      "539856    0.0               64\n",
      "          1298.4             1\n",
      "                     UnitPrice\n",
      "InvoiceNo UnitPrice           \n",
      "537534    0.00              57\n",
      "          924.59             1\n",
      "                     UnitPrice\n",
      "InvoiceNo UnitPrice           \n",
      "545176    0.00              49\n",
      "          764.12             1\n",
      "                     UnitPrice\n",
      "InvoiceNo UnitPrice           \n",
      "553521    0.00              40\n",
      "          452.45             1\n",
      "                     UnitPrice\n",
      "InvoiceNo UnitPrice           \n",
      "558340    0.00              35\n",
      "          481.45             1\n",
      "                     UnitPrice\n",
      "InvoiceNo UnitPrice           \n",
      "553539    0.00              31\n",
      "          465.87             1\n",
      "                     UnitPrice\n",
      "InvoiceNo UnitPrice           \n",
      "546933    0.00              30\n",
      "          498.79             1\n",
      "                     UnitPrice\n",
      "InvoiceNo UnitPrice           \n",
      "564530    0.0               29\n",
      "          312.5              1\n",
      "                     UnitPrice\n",
      "InvoiceNo UnitPrice           \n",
      "552230    0.0                6\n",
      "                     UnitPrice\n",
      "InvoiceNo UnitPrice           \n",
      "540832    2.46              27\n",
      "          4.13              19\n",
      "          3.29              14\n",
      "          4.96              12\n",
      "          1.63              11\n",
      "          5.79              10\n",
      "          8.29               6\n",
      "          16.63              6\n",
      "          0.00               5\n",
      "          6.63               5\n",
      "          7.46               4\n",
      "          2.08               3\n",
      "          12.46              3\n",
      "          1.25               2\n",
      "          9.13               2\n",
      "          10.79              1\n",
      "          24.96              1\n",
      "                     UnitPrice\n",
      "InvoiceNo UnitPrice           \n",
      "545160    0.0                4\n",
      "          48.0               1\n",
      "                     UnitPrice\n",
      "InvoiceNo UnitPrice           \n",
      "564651    0.0                4\n",
      "                     UnitPrice\n",
      "InvoiceNo UnitPrice           \n",
      "539750    2.51              32\n",
      "          3.36              29\n",
      "          4.21              28\n",
      "          5.06              19\n",
      "          8.47              14\n",
      "          6.77              11\n",
      "          1.66               9\n",
      "          5.91               9\n",
      "          16.98              8\n",
      "          2.13               7\n",
      "          12.72              6\n",
      "          0.00               4\n",
      "          7.62               4\n",
      "          9.32               3\n",
      "          11.02              3\n",
      "          1.28               2\n",
      "          3.83               1\n",
      "          25.49              1\n",
      "                     UnitPrice\n",
      "InvoiceNo UnitPrice           \n",
      "538877    4.21              30\n",
      "          3.36              22\n",
      "          2.51              17\n",
      "          5.06              17\n",
      "          8.47              15\n",
      "          16.98             10\n",
      "          6.77               9\n",
      "          2.13               7\n",
      "          5.91               5\n",
      "          0.00               3\n",
      "          9.32               3\n",
      "          11.02              3\n",
      "          12.72              3\n",
      "          3.83               2\n",
      "          7.62               2\n",
      "          1.66               1\n",
      "          4.81               1\n",
      "          25.49              1\n",
      "                     UnitPrice\n",
      "InvoiceNo UnitPrice           \n",
      "580366    0.65               4\n",
      "          1.25               4\n",
      "          2.08               4\n",
      "          0.00               3\n",
      "          1.65               3\n",
      "          3.75               3\n",
      "          8.25               3\n",
      "          2.88               2\n",
      "          3.95               2\n",
      "          0.83               1\n",
      "          0.85               1\n",
      "          1.07               1\n",
      "          1.63               1\n",
      "          1.68               1\n",
      "          1.69               1\n",
      "          1.74               1\n",
      "          1.95               1\n",
      "          2.25               1\n",
      "          2.50               1\n",
      "          2.55               1\n",
      "          4.15               1\n",
      "          4.58               1\n",
      "          4.95               1\n",
      "          6.95               1\n",
      "          8.50               1\n",
      "          9.96               1\n",
      "                     UnitPrice\n",
      "InvoiceNo UnitPrice           \n",
      "559296    0.0                3\n",
      "                     UnitPrice\n",
      "InvoiceNo UnitPrice           \n",
      "556939    0.0                2\n",
      "                     UnitPrice\n",
      "InvoiceNo UnitPrice           \n",
      "546406    0.83              27\n",
      "          2.46              27\n",
      "          1.63              20\n",
      "          4.13              19\n",
      "          5.79               7\n",
      "          15.79              7\n",
      "          0.42               5\n",
      "          3.29               5\n",
      "          4.96               5\n",
      "          8.29               5\n",
      "          10.79              3\n",
      "          0.00               2\n",
      "          0.79               2\n",
      "          0.85               2\n",
      "          1.25               2\n",
      "          5.95               2\n",
      "          1.46               1\n",
      "          1.65               1\n",
      "          2.50               1\n",
      "          2.92               1\n",
      "          2.95               1\n",
      "          3.95               1\n",
      "          4.95               1\n",
      "          7.46               1\n",
      "          8.32               1\n",
      "          9.13               1\n",
      "          9.96               1\n",
      "          11.63              1\n",
      "          12.46              1\n",
      "          16.63              1\n",
      "          19.96              1\n",
      "          20.79              1\n",
      "          24.96              1\n",
      "          201.37             1\n",
      "                     UnitPrice\n",
      "InvoiceNo UnitPrice           \n",
      "575579    0.00               2\n",
      "          0.72               1\n",
      "                     UnitPrice\n",
      "InvoiceNo UnitPrice           \n",
      "581406    0.0                2\n",
      "                     UnitPrice\n",
      "InvoiceNo UnitPrice           \n",
      "568567    0.83              43\n",
      "          4.13              42\n",
      "          1.63              41\n",
      "          2.46              35\n",
      "          3.29              33\n",
      "          5.79              12\n",
      "          0.42               9\n",
      "          8.29               9\n",
      "          1.25               8\n",
      "          10.79              7\n",
      "          0.63               4\n",
      "          4.96               4\n",
      "          7.46               3\n",
      "          0.00               2\n",
      "          2.49               2\n",
      "          2.91               2\n",
      "          12.46              2\n",
      "          16.63              2\n",
      "          0.31               1\n",
      "          0.79               1\n",
      "          0.97               1\n",
      "          1.80               1\n",
      "          2.50               1\n",
      "          2.92               1\n",
      "          4.15               1\n",
      "          5.40               1\n",
      "          6.63               1\n",
      "          8.32               1\n",
      "          9.96               1\n",
      "          13.29              1\n",
      "          14.96              1\n",
      "          24.96              1\n",
      "          227.99             1\n",
      "                     UnitPrice\n",
      "InvoiceNo UnitPrice           \n",
      "563015    0.0                2\n",
      "                     UnitPrice\n",
      "InvoiceNo UnitPrice           \n",
      "574920    2.08               5\n",
      "          1.65               4\n",
      "          2.95               3\n",
      "          0.00               2\n",
      "          2.10               2\n",
      "          3.75               2\n",
      "          4.15               2\n",
      "          4.95               2\n",
      "                     UnitPrice\n",
      "InvoiceNo UnitPrice           \n",
      "540372    0.85              21\n",
      "          1.25              20\n",
      "          0.42              17\n",
      "          1.65              14\n",
      "          2.55              11\n",
      "          2.95              11\n",
      "          2.10               9\n",
      "          0.29               8\n",
      "          1.95               6\n",
      "          4.95               6\n",
      "          0.55               5\n",
      "          8.50               5\n",
      "          9.95               5\n",
      "          3.75               4\n",
      "          0.19               3\n",
      "          3.25               3\n",
      "          3.95               3\n",
      "          5.95               3\n",
      "          0.00               2\n",
      "          0.65               2\n",
      "          4.25               2\n",
      "          6.95               2\n",
      "          0.14               1\n",
      "          0.21               1\n",
      "          1.45               1\n",
      "          1.49               1\n",
      "          1.69               1\n",
      "          3.45               1\n",
      "          4.65               1\n",
      "          6.75               1\n",
      "          10.95              1\n",
      "                     UnitPrice\n",
      "InvoiceNo UnitPrice           \n",
      "560283    1.25               3\n",
      "          0.00               2\n",
      "          1.45               2\n",
      "          3.75               2\n",
      "          0.65               1\n",
      "          0.85               1\n",
      "          1.69               1\n",
      "          2.95               1\n",
      "          3.95               1\n",
      "          5.95               1\n",
      "          7.90               1\n",
      "          8.50               1\n",
      "          9.95               1\n"
     ]
    }
   ],
   "source": [
    "for i in unit_zero_cons_inv:\n",
    "    val = str(i)\n",
    "    print(unit_zero_cons_inv_price.query(\"InvoiceNo == @val\"))"
   ]
  },
  {
   "cell_type": "markdown",
   "metadata": {},
   "source": [
    "This shows only 6 to 7 transactions have only 0 in Unitprice and can thus be neglected.\n",
    "\n",
    "&#8594; Thus it is good enough to omit the rest of the records with zero unit price"
   ]
  },
  {
   "cell_type": "markdown",
   "metadata": {},
   "source": [
    "### Cancelled Products \n",
    "\n",
    "The data description tells us that if any InvoiceNo starts with C, it means it is a cancelled transaction."
   ]
  },
  {
   "cell_type": "code",
   "execution_count": 409,
   "metadata": {
    "ExecuteTime": {
     "end_time": "2020-08-07T16:45:51.675962Z",
     "start_time": "2020-08-07T16:45:51.320910Z"
    },
    "scrolled": true
   },
   "outputs": [
    {
     "data": {
      "text/plain": [
       "(9288, 11)"
      ]
     },
     "execution_count": 409,
     "metadata": {},
     "output_type": "execute_result"
    }
   ],
   "source": [
    "da.InvoiceNo = da.InvoiceNo.astype(str)\n",
    "truth_values = da.InvoiceNo.str.startswith(\"C\", na = False)\n",
    "cancelled_da = da[truth_values]\n",
    "cancelled_da[cancelled_da['Quantity'] < 0].shape"
   ]
  },
  {
   "cell_type": "code",
   "execution_count": 410,
   "metadata": {
    "ExecuteTime": {
     "end_time": "2020-08-07T16:45:52.723287Z",
     "start_time": "2020-08-07T16:45:52.716309Z"
    }
   },
   "outputs": [
    {
     "data": {
      "text/plain": [
       "(9288, 11)"
      ]
     },
     "execution_count": 410,
     "metadata": {},
     "output_type": "execute_result"
    }
   ],
   "source": [
    "cancelled_da.shape"
   ]
  },
  {
   "cell_type": "code",
   "execution_count": 411,
   "metadata": {
    "ExecuteTime": {
     "end_time": "2020-08-07T16:45:53.041301Z",
     "start_time": "2020-08-07T16:45:53.025372Z"
    },
    "scrolled": true
   },
   "outputs": [
    {
     "data": {
      "text/html": [
       "<div>\n",
       "<style scoped>\n",
       "    .dataframe tbody tr th:only-of-type {\n",
       "        vertical-align: middle;\n",
       "    }\n",
       "\n",
       "    .dataframe tbody tr th {\n",
       "        vertical-align: top;\n",
       "    }\n",
       "\n",
       "    .dataframe thead th {\n",
       "        text-align: right;\n",
       "    }\n",
       "</style>\n",
       "<table border=\"1\" class=\"dataframe\">\n",
       "  <thead>\n",
       "    <tr style=\"text-align: right;\">\n",
       "      <th></th>\n",
       "      <th>InvoiceNo</th>\n",
       "      <th>StockCode</th>\n",
       "      <th>Description</th>\n",
       "      <th>Quantity</th>\n",
       "      <th>InvoiceDate</th>\n",
       "      <th>UnitPrice</th>\n",
       "      <th>CustomerID</th>\n",
       "      <th>Country</th>\n",
       "      <th>Date</th>\n",
       "      <th>Time</th>\n",
       "      <th>Amount</th>\n",
       "    </tr>\n",
       "  </thead>\n",
       "  <tbody>\n",
       "    <tr>\n",
       "      <td>141</td>\n",
       "      <td>C536379</td>\n",
       "      <td>D</td>\n",
       "      <td>Discount</td>\n",
       "      <td>-1</td>\n",
       "      <td>2010-12-01 09:41:00</td>\n",
       "      <td>27.50</td>\n",
       "      <td>14527.0</td>\n",
       "      <td>United Kingdom</td>\n",
       "      <td>2010-12-01</td>\n",
       "      <td>09:41:00</td>\n",
       "      <td>-27.50</td>\n",
       "    </tr>\n",
       "    <tr>\n",
       "      <td>154</td>\n",
       "      <td>C536383</td>\n",
       "      <td>35004C</td>\n",
       "      <td>SET OF 3 COLOURED  FLYING DUCKS</td>\n",
       "      <td>-1</td>\n",
       "      <td>2010-12-01 09:49:00</td>\n",
       "      <td>4.65</td>\n",
       "      <td>15311.0</td>\n",
       "      <td>United Kingdom</td>\n",
       "      <td>2010-12-01</td>\n",
       "      <td>09:49:00</td>\n",
       "      <td>-4.65</td>\n",
       "    </tr>\n",
       "    <tr>\n",
       "      <td>235</td>\n",
       "      <td>C536391</td>\n",
       "      <td>22556</td>\n",
       "      <td>PLASTERS IN TIN CIRCUS PARADE</td>\n",
       "      <td>-12</td>\n",
       "      <td>2010-12-01 10:24:00</td>\n",
       "      <td>1.65</td>\n",
       "      <td>17548.0</td>\n",
       "      <td>United Kingdom</td>\n",
       "      <td>2010-12-01</td>\n",
       "      <td>10:24:00</td>\n",
       "      <td>-19.80</td>\n",
       "    </tr>\n",
       "    <tr>\n",
       "      <td>236</td>\n",
       "      <td>C536391</td>\n",
       "      <td>21984</td>\n",
       "      <td>PACK OF 12 PINK PAISLEY TISSUES</td>\n",
       "      <td>-24</td>\n",
       "      <td>2010-12-01 10:24:00</td>\n",
       "      <td>0.29</td>\n",
       "      <td>17548.0</td>\n",
       "      <td>United Kingdom</td>\n",
       "      <td>2010-12-01</td>\n",
       "      <td>10:24:00</td>\n",
       "      <td>-6.96</td>\n",
       "    </tr>\n",
       "    <tr>\n",
       "      <td>237</td>\n",
       "      <td>C536391</td>\n",
       "      <td>21983</td>\n",
       "      <td>PACK OF 12 BLUE PAISLEY TISSUES</td>\n",
       "      <td>-24</td>\n",
       "      <td>2010-12-01 10:24:00</td>\n",
       "      <td>0.29</td>\n",
       "      <td>17548.0</td>\n",
       "      <td>United Kingdom</td>\n",
       "      <td>2010-12-01</td>\n",
       "      <td>10:24:00</td>\n",
       "      <td>-6.96</td>\n",
       "    </tr>\n",
       "  </tbody>\n",
       "</table>\n",
       "</div>"
      ],
      "text/plain": [
       "    InvoiceNo StockCode                       Description  Quantity  \\\n",
       "141   C536379         D                          Discount        -1   \n",
       "154   C536383    35004C   SET OF 3 COLOURED  FLYING DUCKS        -1   \n",
       "235   C536391     22556    PLASTERS IN TIN CIRCUS PARADE        -12   \n",
       "236   C536391     21984  PACK OF 12 PINK PAISLEY TISSUES        -24   \n",
       "237   C536391     21983  PACK OF 12 BLUE PAISLEY TISSUES        -24   \n",
       "\n",
       "            InvoiceDate  UnitPrice  CustomerID         Country        Date  \\\n",
       "141 2010-12-01 09:41:00      27.50     14527.0  United Kingdom  2010-12-01   \n",
       "154 2010-12-01 09:49:00       4.65     15311.0  United Kingdom  2010-12-01   \n",
       "235 2010-12-01 10:24:00       1.65     17548.0  United Kingdom  2010-12-01   \n",
       "236 2010-12-01 10:24:00       0.29     17548.0  United Kingdom  2010-12-01   \n",
       "237 2010-12-01 10:24:00       0.29     17548.0  United Kingdom  2010-12-01   \n",
       "\n",
       "         Time  Amount  \n",
       "141  09:41:00  -27.50  \n",
       "154  09:49:00   -4.65  \n",
       "235  10:24:00  -19.80  \n",
       "236  10:24:00   -6.96  \n",
       "237  10:24:00   -6.96  "
      ]
     },
     "execution_count": 411,
     "metadata": {},
     "output_type": "execute_result"
    }
   ],
   "source": [
    "cancelled_da.head()"
   ]
  },
  {
   "cell_type": "code",
   "execution_count": 412,
   "metadata": {
    "ExecuteTime": {
     "end_time": "2020-08-07T16:45:54.741399Z",
     "start_time": "2020-08-07T16:45:54.732425Z"
    }
   },
   "outputs": [
    {
     "data": {
      "text/plain": [
       "True"
      ]
     },
     "execution_count": 412,
     "metadata": {},
     "output_type": "execute_result"
    }
   ],
   "source": [
    "cancelled_da[cancelled_da['Quantity'] < 0].shape == cancelled_da.shape\n",
    "# Thus, we understand all cancelled products (starting with 'C') have a negative quantity"
   ]
  },
  {
   "cell_type": "markdown",
   "metadata": {},
   "source": [
    "Removing those records that are justfied to remove"
   ]
  },
  {
   "cell_type": "code",
   "execution_count": 413,
   "metadata": {
    "ExecuteTime": {
     "end_time": "2020-08-07T16:45:55.762973Z",
     "start_time": "2020-08-07T16:45:55.648280Z"
    },
    "scrolled": false
   },
   "outputs": [
    {
     "name": "stdout",
     "output_type": "stream",
     "text": [
      "(540455, 11)\n",
      "No. of records removed :  1454\n"
     ]
    }
   ],
   "source": [
    "da_new = da[~da['Description'].isnull()] # removing null descriptions\n",
    "print(da_new.shape)\n",
    "print('No. of records removed : ', da.shape[0] - da_new.shape[0])"
   ]
  },
  {
   "cell_type": "code",
   "execution_count": 414,
   "metadata": {
    "ExecuteTime": {
     "end_time": "2020-08-07T16:45:57.458261Z",
     "start_time": "2020-08-07T16:45:57.333567Z"
    }
   },
   "outputs": [
    {
     "name": "stdout",
     "output_type": "stream",
     "text": [
      "No. of records removed :  1063\n",
      "(539392, 11)\n"
     ]
    }
   ],
   "source": [
    "print('No. of records removed : ', da_new[da_new['UnitPrice'] <= 0].shape[0]) # Removing unit price 0\n",
    "da_new = da_new[da_new['UnitPrice'] > 0]\n",
    "print(da_new.shape)"
   ]
  },
  {
   "cell_type": "code",
   "execution_count": 415,
   "metadata": {
    "ExecuteTime": {
     "end_time": "2020-08-07T16:45:58.020173Z",
     "start_time": "2020-08-07T16:45:57.892482Z"
    },
    "scrolled": true
   },
   "outputs": [],
   "source": [
    "da_new = da_new[~da_new.InvoiceNo.isin(cancelled_da.InvoiceNo)] # Removing cancelled items "
   ]
  },
  {
   "cell_type": "code",
   "execution_count": 416,
   "metadata": {
    "ExecuteTime": {
     "end_time": "2020-08-07T16:45:58.230577Z",
     "start_time": "2020-08-07T16:45:58.224595Z"
    }
   },
   "outputs": [
    {
     "data": {
      "text/plain": [
       "(530104, 11)"
      ]
     },
     "execution_count": 416,
     "metadata": {},
     "output_type": "execute_result"
    }
   ],
   "source": [
    "da_new.shape"
   ]
  },
  {
   "cell_type": "code",
   "execution_count": 417,
   "metadata": {
    "ExecuteTime": {
     "end_time": "2020-08-07T16:45:59.451202Z",
     "start_time": "2020-08-07T16:45:59.439205Z"
    },
    "scrolled": true
   },
   "outputs": [
    {
     "data": {
      "text/html": [
       "<div>\n",
       "<style scoped>\n",
       "    .dataframe tbody tr th:only-of-type {\n",
       "        vertical-align: middle;\n",
       "    }\n",
       "\n",
       "    .dataframe tbody tr th {\n",
       "        vertical-align: top;\n",
       "    }\n",
       "\n",
       "    .dataframe thead th {\n",
       "        text-align: right;\n",
       "    }\n",
       "</style>\n",
       "<table border=\"1\" class=\"dataframe\">\n",
       "  <thead>\n",
       "    <tr style=\"text-align: right;\">\n",
       "      <th></th>\n",
       "      <th>InvoiceNo</th>\n",
       "      <th>StockCode</th>\n",
       "      <th>Description</th>\n",
       "      <th>Quantity</th>\n",
       "      <th>InvoiceDate</th>\n",
       "      <th>UnitPrice</th>\n",
       "      <th>CustomerID</th>\n",
       "      <th>Country</th>\n",
       "      <th>Date</th>\n",
       "      <th>Time</th>\n",
       "      <th>Amount</th>\n",
       "    </tr>\n",
       "  </thead>\n",
       "  <tbody>\n",
       "  </tbody>\n",
       "</table>\n",
       "</div>"
      ],
      "text/plain": [
       "Empty DataFrame\n",
       "Columns: [InvoiceNo, StockCode, Description, Quantity, InvoiceDate, UnitPrice, CustomerID, Country, Date, Time, Amount]\n",
       "Index: []"
      ]
     },
     "execution_count": 417,
     "metadata": {},
     "output_type": "execute_result"
    }
   ],
   "source": [
    "neg_quant = da_new[da_new['Quantity'] < 0]\n",
    "neg_quant"
   ]
  },
  {
   "cell_type": "markdown",
   "metadata": {},
   "source": [
    "This shows there is no quantity with a negative value. Hurray !!"
   ]
  },
  {
   "cell_type": "code",
   "execution_count": 418,
   "metadata": {
    "ExecuteTime": {
     "end_time": "2020-08-07T16:46:02.602350Z",
     "start_time": "2020-08-07T16:46:02.457767Z"
    }
   },
   "outputs": [
    {
     "name": "stderr",
     "output_type": "stream",
     "text": [
      "D:\\Anaconda\\lib\\site-packages\\ipykernel_launcher.py:1: UserWarning: Boolean Series key will be reindexed to match DataFrame index.\n",
      "  \"\"\"Entry point for launching an IPython kernel.\n"
     ]
    }
   ],
   "source": [
    "da_new.loc[da_new.CustomerID.isnull(),'CustomerID'] = da_new[da.CustomerID.isnull()]['InvoiceNo'] # Replacing null cid's"
   ]
  },
  {
   "cell_type": "code",
   "execution_count": 419,
   "metadata": {
    "ExecuteTime": {
     "end_time": "2020-08-07T16:46:03.663283Z",
     "start_time": "2020-08-07T16:46:03.411675Z"
    }
   },
   "outputs": [
    {
     "data": {
      "text/plain": [
       "InvoiceNo      0\n",
       "StockCode      0\n",
       "Description    0\n",
       "Quantity       0\n",
       "InvoiceDate    0\n",
       "UnitPrice      0\n",
       "CustomerID     0\n",
       "Country        0\n",
       "Date           0\n",
       "Time           0\n",
       "Amount         0\n",
       "dtype: int64"
      ]
     },
     "execution_count": 419,
     "metadata": {},
     "output_type": "execute_result"
    }
   ],
   "source": [
    "da_new.isnull().sum()"
   ]
  },
  {
   "cell_type": "code",
   "execution_count": 420,
   "metadata": {
    "ExecuteTime": {
     "end_time": "2020-08-07T16:46:05.280901Z",
     "start_time": "2020-08-07T16:46:05.242036Z"
    },
    "scrolled": false
   },
   "outputs": [
    {
     "data": {
      "text/plain": [
       "InvoiceNo      1336\n",
       "StockCode      1082\n",
       "Description     138\n",
       "Quantity        298\n",
       "InvoiceDate    1114\n",
       "UnitPrice         1\n",
       "CustomerID        0\n",
       "Country           1\n",
       "Date            201\n",
       "Time            483\n",
       "Amount            1\n",
       "dtype: int64"
      ]
     },
     "execution_count": 420,
     "metadata": {},
     "output_type": "execute_result"
    }
   ],
   "source": [
    "neg_quant_not_can = da[(da['Quantity'] < 0) & (~da['InvoiceNo'].isin(cancelled_da['InvoiceNo']))]\n",
    "neg_quant_not_can.nunique()"
   ]
  },
  {
   "cell_type": "code",
   "execution_count": 422,
   "metadata": {
    "ExecuteTime": {
     "end_time": "2020-08-07T16:46:16.493753Z",
     "start_time": "2020-08-07T16:46:16.431921Z"
    },
    "scrolled": true
   },
   "outputs": [
    {
     "data": {
      "text/html": [
       "<div>\n",
       "<style scoped>\n",
       "    .dataframe tbody tr th:only-of-type {\n",
       "        vertical-align: middle;\n",
       "    }\n",
       "\n",
       "    .dataframe tbody tr th {\n",
       "        vertical-align: top;\n",
       "    }\n",
       "\n",
       "    .dataframe thead th {\n",
       "        text-align: right;\n",
       "    }\n",
       "</style>\n",
       "<table border=\"1\" class=\"dataframe\">\n",
       "  <thead>\n",
       "    <tr style=\"text-align: right;\">\n",
       "      <th></th>\n",
       "      <th>InvoiceNo</th>\n",
       "      <th>StockCode</th>\n",
       "      <th>Description</th>\n",
       "      <th>Quantity</th>\n",
       "      <th>InvoiceDate</th>\n",
       "      <th>UnitPrice</th>\n",
       "      <th>CustomerID</th>\n",
       "      <th>Country</th>\n",
       "      <th>Date</th>\n",
       "      <th>Time</th>\n",
       "      <th>Amount</th>\n",
       "    </tr>\n",
       "  </thead>\n",
       "  <tbody>\n",
       "    <tr>\n",
       "      <td>622</td>\n",
       "      <td>536414</td>\n",
       "      <td>22139</td>\n",
       "      <td>NaN</td>\n",
       "      <td>56</td>\n",
       "      <td>2010-12-01 11:52:00</td>\n",
       "      <td>0.0</td>\n",
       "      <td>NaN</td>\n",
       "      <td>United Kingdom</td>\n",
       "      <td>2010-12-01</td>\n",
       "      <td>11:52:00</td>\n",
       "      <td>0.0</td>\n",
       "    </tr>\n",
       "    <tr>\n",
       "      <td>1970</td>\n",
       "      <td>536545</td>\n",
       "      <td>21134</td>\n",
       "      <td>NaN</td>\n",
       "      <td>1</td>\n",
       "      <td>2010-12-01 14:32:00</td>\n",
       "      <td>0.0</td>\n",
       "      <td>NaN</td>\n",
       "      <td>United Kingdom</td>\n",
       "      <td>2010-12-01</td>\n",
       "      <td>14:32:00</td>\n",
       "      <td>0.0</td>\n",
       "    </tr>\n",
       "    <tr>\n",
       "      <td>1971</td>\n",
       "      <td>536546</td>\n",
       "      <td>22145</td>\n",
       "      <td>NaN</td>\n",
       "      <td>1</td>\n",
       "      <td>2010-12-01 14:33:00</td>\n",
       "      <td>0.0</td>\n",
       "      <td>NaN</td>\n",
       "      <td>United Kingdom</td>\n",
       "      <td>2010-12-01</td>\n",
       "      <td>14:33:00</td>\n",
       "      <td>0.0</td>\n",
       "    </tr>\n",
       "    <tr>\n",
       "      <td>1972</td>\n",
       "      <td>536547</td>\n",
       "      <td>37509</td>\n",
       "      <td>NaN</td>\n",
       "      <td>1</td>\n",
       "      <td>2010-12-01 14:33:00</td>\n",
       "      <td>0.0</td>\n",
       "      <td>NaN</td>\n",
       "      <td>United Kingdom</td>\n",
       "      <td>2010-12-01</td>\n",
       "      <td>14:33:00</td>\n",
       "      <td>0.0</td>\n",
       "    </tr>\n",
       "    <tr>\n",
       "      <td>1987</td>\n",
       "      <td>536549</td>\n",
       "      <td>85226A</td>\n",
       "      <td>NaN</td>\n",
       "      <td>1</td>\n",
       "      <td>2010-12-01 14:34:00</td>\n",
       "      <td>0.0</td>\n",
       "      <td>NaN</td>\n",
       "      <td>United Kingdom</td>\n",
       "      <td>2010-12-01</td>\n",
       "      <td>14:34:00</td>\n",
       "      <td>0.0</td>\n",
       "    </tr>\n",
       "  </tbody>\n",
       "</table>\n",
       "</div>"
      ],
      "text/plain": [
       "     InvoiceNo StockCode Description  Quantity         InvoiceDate  UnitPrice  \\\n",
       "622     536414     22139         NaN        56 2010-12-01 11:52:00        0.0   \n",
       "1970    536545     21134         NaN         1 2010-12-01 14:32:00        0.0   \n",
       "1971    536546     22145         NaN         1 2010-12-01 14:33:00        0.0   \n",
       "1972    536547     37509         NaN         1 2010-12-01 14:33:00        0.0   \n",
       "1987    536549    85226A         NaN         1 2010-12-01 14:34:00        0.0   \n",
       "\n",
       "      CustomerID         Country        Date      Time  Amount  \n",
       "622          NaN  United Kingdom  2010-12-01  11:52:00     0.0  \n",
       "1970         NaN  United Kingdom  2010-12-01  14:32:00     0.0  \n",
       "1971         NaN  United Kingdom  2010-12-01  14:33:00     0.0  \n",
       "1972         NaN  United Kingdom  2010-12-01  14:33:00     0.0  \n",
       "1987         NaN  United Kingdom  2010-12-01  14:34:00     0.0  "
      ]
     },
     "execution_count": 422,
     "metadata": {},
     "output_type": "execute_result"
    }
   ],
   "source": [
    "escaped_des = list(set(neg_quant_not_can['Description'].unique()).difference(set(abnormal_description)))\n",
    "da[da['Description'].isin(escaped_des)].head()"
   ]
  },
  {
   "cell_type": "code",
   "execution_count": 423,
   "metadata": {
    "ExecuteTime": {
     "end_time": "2020-08-07T16:46:20.461832Z",
     "start_time": "2020-08-07T16:46:20.457842Z"
    }
   },
   "outputs": [
    {
     "data": {
      "text/plain": [
       "[nan,\n",
       " 20713,\n",
       " 'CHECK',\n",
       " 'MIA',\n",
       " 'WET/MOULDY',\n",
       " 'MERCHANT CHANDLER CREDIT ERROR, STO']"
      ]
     },
     "execution_count": 423,
     "metadata": {},
     "output_type": "execute_result"
    }
   ],
   "source": [
    "escaped_des\n",
    "# This should be added to abnormal description.\n",
    "# Remaining all belong to cancelled_da"
   ]
  },
  {
   "cell_type": "markdown",
   "metadata": {},
   "source": [
    "### StockCode : Cleaning"
   ]
  },
  {
   "cell_type": "code",
   "execution_count": 424,
   "metadata": {
    "ExecuteTime": {
     "end_time": "2020-08-07T16:46:25.619362Z",
     "start_time": "2020-08-07T16:46:25.015947Z"
    },
    "scrolled": true
   },
   "outputs": [
    {
     "data": {
      "text/plain": [
       "['POST',\n",
       " 'D',\n",
       " 'DOT',\n",
       " 'M',\n",
       " 'S',\n",
       " 'AMAZONFEE',\n",
       " 'DCGSSBOY',\n",
       " 'DCGSSGIRL',\n",
       " 'PADS',\n",
       " 'B',\n",
       " 'CRUK']"
      ]
     },
     "execution_count": 424,
     "metadata": {},
     "output_type": "execute_result"
    }
   ],
   "source": [
    "ambiguous_stockcodes = list(da[da['StockCode'].str.contains(\"^[A-Z]+$\", na = False, regex = True)]['StockCode'].unique())\n",
    "ambiguous_stockcodes"
   ]
  },
  {
   "cell_type": "code",
   "execution_count": 425,
   "metadata": {
    "ExecuteTime": {
     "end_time": "2020-08-07T16:46:27.136198Z",
     "start_time": "2020-08-07T16:46:27.086329Z"
    }
   },
   "outputs": [
    {
     "data": {
      "text/plain": [
       "['POSTAGE',\n",
       " 'DOTCOM POSTAGE',\n",
       " 'SAMPLES',\n",
       " nan,\n",
       " 'BOYS PARTY BAG',\n",
       " 'GIRLS PARTY BAG',\n",
       " 'PADS TO MATCH ALL CUSHIONS']"
      ]
     },
     "execution_count": 425,
     "metadata": {},
     "output_type": "execute_result"
    }
   ],
   "source": [
    "xx = list(da[da['StockCode'].isin(ambiguous_stockcodes)]['Description'].unique())\n",
    "[i for i in xx if i not in abnormal_description]"
   ]
  },
  {
   "cell_type": "markdown",
   "metadata": {},
   "source": [
    "Needs to be aded exccept boys and girls"
   ]
  },
  {
   "cell_type": "markdown",
   "metadata": {},
   "source": [
    "### CustomerID : Cleaning"
   ]
  },
  {
   "cell_type": "code",
   "execution_count": 426,
   "metadata": {
    "ExecuteTime": {
     "end_time": "2020-08-07T16:46:35.170874Z",
     "start_time": "2020-08-07T16:46:35.139927Z"
    },
    "scrolled": true
   },
   "outputs": [
    {
     "data": {
      "text/html": [
       "<div>\n",
       "<style scoped>\n",
       "    .dataframe tbody tr th:only-of-type {\n",
       "        vertical-align: middle;\n",
       "    }\n",
       "\n",
       "    .dataframe tbody tr th {\n",
       "        vertical-align: top;\n",
       "    }\n",
       "\n",
       "    .dataframe thead th {\n",
       "        text-align: right;\n",
       "    }\n",
       "</style>\n",
       "<table border=\"1\" class=\"dataframe\">\n",
       "  <thead>\n",
       "    <tr style=\"text-align: right;\">\n",
       "      <th></th>\n",
       "      <th>InvoiceNo</th>\n",
       "      <th>StockCode</th>\n",
       "      <th>Description</th>\n",
       "      <th>Quantity</th>\n",
       "      <th>InvoiceDate</th>\n",
       "      <th>UnitPrice</th>\n",
       "      <th>CustomerID</th>\n",
       "      <th>Country</th>\n",
       "      <th>Date</th>\n",
       "      <th>Time</th>\n",
       "      <th>Amount</th>\n",
       "    </tr>\n",
       "  </thead>\n",
       "  <tbody>\n",
       "  </tbody>\n",
       "</table>\n",
       "</div>"
      ],
      "text/plain": [
       "Empty DataFrame\n",
       "Columns: [InvoiceNo, StockCode, Description, Quantity, InvoiceDate, UnitPrice, CustomerID, Country, Date, Time, Amount]\n",
       "Index: []"
      ]
     },
     "execution_count": 426,
     "metadata": {},
     "output_type": "execute_result"
    }
   ],
   "source": [
    "null_cid = da_new[da_new['CustomerID'].isnull()]\n",
    "null_cid"
   ]
  },
  {
   "cell_type": "code",
   "execution_count": 427,
   "metadata": {
    "ExecuteTime": {
     "end_time": "2020-08-07T16:46:35.709737Z",
     "start_time": "2020-08-07T16:46:35.697768Z"
    },
    "scrolled": true
   },
   "outputs": [
    {
     "data": {
      "text/html": [
       "<div>\n",
       "<style scoped>\n",
       "    .dataframe tbody tr th:only-of-type {\n",
       "        vertical-align: middle;\n",
       "    }\n",
       "\n",
       "    .dataframe tbody tr th {\n",
       "        vertical-align: top;\n",
       "    }\n",
       "\n",
       "    .dataframe thead th {\n",
       "        text-align: right;\n",
       "    }\n",
       "</style>\n",
       "<table border=\"1\" class=\"dataframe\">\n",
       "  <thead>\n",
       "    <tr style=\"text-align: right;\">\n",
       "      <th></th>\n",
       "      <th>InvoiceNo</th>\n",
       "      <th>StockCode</th>\n",
       "      <th>Description</th>\n",
       "      <th>Quantity</th>\n",
       "      <th>InvoiceDate</th>\n",
       "      <th>UnitPrice</th>\n",
       "      <th>CustomerID</th>\n",
       "      <th>Country</th>\n",
       "      <th>Date</th>\n",
       "      <th>Time</th>\n",
       "      <th>Amount</th>\n",
       "    </tr>\n",
       "  </thead>\n",
       "  <tbody>\n",
       "  </tbody>\n",
       "</table>\n",
       "</div>"
      ],
      "text/plain": [
       "Empty DataFrame\n",
       "Columns: [InvoiceNo, StockCode, Description, Quantity, InvoiceDate, UnitPrice, CustomerID, Country, Date, Time, Amount]\n",
       "Index: []"
      ]
     },
     "execution_count": 427,
     "metadata": {},
     "output_type": "execute_result"
    }
   ],
   "source": [
    "null_cid[null_cid['Quantity'] < 0]"
   ]
  },
  {
   "cell_type": "code",
   "execution_count": 428,
   "metadata": {
    "ExecuteTime": {
     "end_time": "2020-08-07T16:46:36.870602Z",
     "start_time": "2020-08-07T16:46:36.860622Z"
    }
   },
   "outputs": [
    {
     "data": {
      "text/html": [
       "<div>\n",
       "<style scoped>\n",
       "    .dataframe tbody tr th:only-of-type {\n",
       "        vertical-align: middle;\n",
       "    }\n",
       "\n",
       "    .dataframe tbody tr th {\n",
       "        vertical-align: top;\n",
       "    }\n",
       "\n",
       "    .dataframe thead th {\n",
       "        text-align: right;\n",
       "    }\n",
       "</style>\n",
       "<table border=\"1\" class=\"dataframe\">\n",
       "  <thead>\n",
       "    <tr style=\"text-align: right;\">\n",
       "      <th></th>\n",
       "      <th>InvoiceNo</th>\n",
       "      <th>StockCode</th>\n",
       "      <th>Description</th>\n",
       "      <th>Quantity</th>\n",
       "      <th>InvoiceDate</th>\n",
       "      <th>UnitPrice</th>\n",
       "      <th>CustomerID</th>\n",
       "      <th>Country</th>\n",
       "      <th>Date</th>\n",
       "      <th>Time</th>\n",
       "      <th>Amount</th>\n",
       "    </tr>\n",
       "  </thead>\n",
       "  <tbody>\n",
       "  </tbody>\n",
       "</table>\n",
       "</div>"
      ],
      "text/plain": [
       "Empty DataFrame\n",
       "Columns: [InvoiceNo, StockCode, Description, Quantity, InvoiceDate, UnitPrice, CustomerID, Country, Date, Time, Amount]\n",
       "Index: []"
      ]
     },
     "execution_count": 428,
     "metadata": {},
     "output_type": "execute_result"
    }
   ],
   "source": [
    "null_cid[null_cid['UnitPrice'] <= 0]"
   ]
  },
  {
   "cell_type": "markdown",
   "metadata": {},
   "source": [
    "250g needs to be added"
   ]
  },
  {
   "cell_type": "code",
   "execution_count": 429,
   "metadata": {
    "ExecuteTime": {
     "end_time": "2020-08-07T16:46:38.876021Z",
     "start_time": "2020-08-07T16:46:38.821166Z"
    }
   },
   "outputs": [
    {
     "data": {
      "text/plain": [
       "Manual                                 322\n",
       "BAG 250g SWIRLY MARBLES                249\n",
       "Next Day Carriage                       79\n",
       "Bank Charges                            12\n",
       "Dotcomgiftshop Gift Voucher £20.00       9\n",
       "Dotcomgiftshop Gift Voucher £10.00       8\n",
       "Dotcomgiftshop Gift Voucher £30.00       7\n",
       "Dotcomgiftshop Gift Voucher £50.00       4\n",
       "High Resolution Image                    3\n",
       "Dotcomgiftshop Gift Voucher £40.00       3\n",
       "Dad's Cab Electronic Meter               2\n",
       "*USB Office Mirror Ball                  2\n",
       "Dr. Jam's Arouzer Stress Ball            2\n",
       "AMAZON FEE                               2\n",
       "*Boombox Ipod Classic                    1\n",
       "Dotcomgiftshop Gift Voucher £100.00      1\n",
       "Adjust bad debt                          1\n",
       "Name: Description, dtype: int64"
      ]
     },
     "execution_count": 429,
     "metadata": {},
     "output_type": "execute_result"
    }
   ],
   "source": [
    "da_new[da_new['Description'].isin(abnormal_description)]['Description'].value_counts()"
   ]
  },
  {
   "cell_type": "code",
   "execution_count": 430,
   "metadata": {
    "ExecuteTime": {
     "end_time": "2020-08-07T16:46:41.239869Z",
     "start_time": "2020-08-07T16:46:41.231891Z"
    },
    "scrolled": true
   },
   "outputs": [
    {
     "data": {
      "text/plain": [
       "Series([], Name: Description, dtype: int64)"
      ]
     },
     "execution_count": 430,
     "metadata": {},
     "output_type": "execute_result"
    }
   ],
   "source": [
    "null_cid[null_cid['Description'].isin(abnormal_description)]['Description'].value_counts()"
   ]
  },
  {
   "cell_type": "code",
   "execution_count": 431,
   "metadata": {
    "ExecuteTime": {
     "end_time": "2020-08-07T16:46:44.692163Z",
     "start_time": "2020-08-07T16:46:44.680222Z"
    },
    "scrolled": true
   },
   "outputs": [
    {
     "data": {
      "text/html": [
       "<div>\n",
       "<style scoped>\n",
       "    .dataframe tbody tr th:only-of-type {\n",
       "        vertical-align: middle;\n",
       "    }\n",
       "\n",
       "    .dataframe tbody tr th {\n",
       "        vertical-align: top;\n",
       "    }\n",
       "\n",
       "    .dataframe thead th {\n",
       "        text-align: right;\n",
       "    }\n",
       "</style>\n",
       "<table border=\"1\" class=\"dataframe\">\n",
       "  <thead>\n",
       "    <tr style=\"text-align: right;\">\n",
       "      <th></th>\n",
       "      <th>index</th>\n",
       "      <th>invoice_count</th>\n",
       "    </tr>\n",
       "  </thead>\n",
       "  <tbody>\n",
       "  </tbody>\n",
       "</table>\n",
       "</div>"
      ],
      "text/plain": [
       "Empty DataFrame\n",
       "Columns: [index, invoice_count]\n",
       "Index: []"
      ]
     },
     "execution_count": 431,
     "metadata": {},
     "output_type": "execute_result"
    }
   ],
   "source": [
    "null_cid_cons_invoice = null_cid['InvoiceNo'].value_counts().reset_index(name = 'invoice_count').query(\"invoice_count >= 2\")\n",
    "null_cid_cons_invoice"
   ]
  },
  {
   "cell_type": "code",
   "execution_count": 432,
   "metadata": {
    "ExecuteTime": {
     "end_time": "2020-08-07T16:46:45.259825Z",
     "start_time": "2020-08-07T16:46:45.234893Z"
    }
   },
   "outputs": [
    {
     "data": {
      "text/html": [
       "<div>\n",
       "<style scoped>\n",
       "    .dataframe tbody tr th:only-of-type {\n",
       "        vertical-align: middle;\n",
       "    }\n",
       "\n",
       "    .dataframe tbody tr th {\n",
       "        vertical-align: top;\n",
       "    }\n",
       "\n",
       "    .dataframe thead th {\n",
       "        text-align: right;\n",
       "    }\n",
       "</style>\n",
       "<table border=\"1\" class=\"dataframe\">\n",
       "  <thead>\n",
       "    <tr style=\"text-align: right;\">\n",
       "      <th></th>\n",
       "      <th>InvoiceNo</th>\n",
       "      <th>StockCode</th>\n",
       "      <th>Description</th>\n",
       "      <th>Quantity</th>\n",
       "      <th>InvoiceDate</th>\n",
       "      <th>UnitPrice</th>\n",
       "      <th>CustomerID</th>\n",
       "      <th>Country</th>\n",
       "      <th>Date</th>\n",
       "      <th>Time</th>\n",
       "      <th>Amount</th>\n",
       "    </tr>\n",
       "  </thead>\n",
       "  <tbody>\n",
       "  </tbody>\n",
       "</table>\n",
       "</div>"
      ],
      "text/plain": [
       "Empty DataFrame\n",
       "Columns: [InvoiceNo, StockCode, Description, Quantity, InvoiceDate, UnitPrice, CustomerID, Country, Date, Time, Amount]\n",
       "Index: []"
      ]
     },
     "execution_count": 432,
     "metadata": {},
     "output_type": "execute_result"
    }
   ],
   "source": [
    "da_new[da_new['InvoiceNo'].isin(null_cid_cons_invoice['index'])]"
   ]
  },
  {
   "cell_type": "code",
   "execution_count": 433,
   "metadata": {
    "ExecuteTime": {
     "end_time": "2020-08-07T16:46:45.556070Z",
     "start_time": "2020-08-07T16:46:45.501181Z"
    },
    "scrolled": true
   },
   "outputs": [
    {
     "data": {
      "text/html": [
       "<div>\n",
       "<style scoped>\n",
       "    .dataframe tbody tr th:only-of-type {\n",
       "        vertical-align: middle;\n",
       "    }\n",
       "\n",
       "    .dataframe tbody tr th {\n",
       "        vertical-align: top;\n",
       "    }\n",
       "\n",
       "    .dataframe thead th {\n",
       "        text-align: right;\n",
       "    }\n",
       "</style>\n",
       "<table border=\"1\" class=\"dataframe\">\n",
       "  <thead>\n",
       "    <tr style=\"text-align: right;\">\n",
       "      <th></th>\n",
       "      <th>InvoiceNo</th>\n",
       "      <th>StockCode</th>\n",
       "      <th>Description</th>\n",
       "      <th>Quantity</th>\n",
       "      <th>InvoiceDate</th>\n",
       "      <th>UnitPrice</th>\n",
       "      <th>CustomerID</th>\n",
       "      <th>Country</th>\n",
       "      <th>Date</th>\n",
       "      <th>Time</th>\n",
       "      <th>Amount</th>\n",
       "    </tr>\n",
       "  </thead>\n",
       "  <tbody>\n",
       "  </tbody>\n",
       "</table>\n",
       "</div>"
      ],
      "text/plain": [
       "Empty DataFrame\n",
       "Columns: [InvoiceNo, StockCode, Description, Quantity, InvoiceDate, UnitPrice, CustomerID, Country, Date, Time, Amount]\n",
       "Index: []"
      ]
     },
     "execution_count": 433,
     "metadata": {},
     "output_type": "execute_result"
    }
   ],
   "source": [
    "da[da['InvoiceNo'] == 573585]"
   ]
  },
  {
   "cell_type": "code",
   "execution_count": 435,
   "metadata": {
    "ExecuteTime": {
     "end_time": "2020-08-07T16:46:54.477981Z",
     "start_time": "2020-08-07T16:46:54.078052Z"
    },
    "scrolled": true
   },
   "outputs": [
    {
     "data": {
      "text/html": [
       "<div>\n",
       "<style scoped>\n",
       "    .dataframe tbody tr th:only-of-type {\n",
       "        vertical-align: middle;\n",
       "    }\n",
       "\n",
       "    .dataframe tbody tr th {\n",
       "        vertical-align: top;\n",
       "    }\n",
       "\n",
       "    .dataframe thead th {\n",
       "        text-align: right;\n",
       "    }\n",
       "</style>\n",
       "<table border=\"1\" class=\"dataframe\">\n",
       "  <thead>\n",
       "    <tr style=\"text-align: right;\">\n",
       "      <th></th>\n",
       "      <th>InvoiceNo</th>\n",
       "      <th>StockCode</th>\n",
       "      <th>Description</th>\n",
       "      <th>Quantity</th>\n",
       "      <th>InvoiceDate</th>\n",
       "      <th>UnitPrice</th>\n",
       "      <th>CustomerID</th>\n",
       "      <th>Country</th>\n",
       "      <th>Date</th>\n",
       "      <th>Time</th>\n",
       "      <th>Amount</th>\n",
       "    </tr>\n",
       "  </thead>\n",
       "  <tbody>\n",
       "    <tr>\n",
       "      <td>2365</td>\n",
       "      <td>536585</td>\n",
       "      <td>37449</td>\n",
       "      <td>CERAMIC CAKE STAND + HANGING CAKES</td>\n",
       "      <td>2</td>\n",
       "      <td>2010-12-01 16:24:00</td>\n",
       "      <td>9.95</td>\n",
       "      <td>17460.0</td>\n",
       "      <td>United Kingdom</td>\n",
       "      <td>2010-12-01</td>\n",
       "      <td>16:24:00</td>\n",
       "      <td>19.90</td>\n",
       "    </tr>\n",
       "    <tr>\n",
       "      <td>38542</td>\n",
       "      <td>539585</td>\n",
       "      <td>21009</td>\n",
       "      <td>NaN</td>\n",
       "      <td>1</td>\n",
       "      <td>2010-12-20 12:54:00</td>\n",
       "      <td>0.00</td>\n",
       "      <td>NaN</td>\n",
       "      <td>United Kingdom</td>\n",
       "      <td>2010-12-20</td>\n",
       "      <td>12:54:00</td>\n",
       "      <td>0.00</td>\n",
       "    </tr>\n",
       "    <tr>\n",
       "      <td>63610</td>\n",
       "      <td>541585</td>\n",
       "      <td>22167</td>\n",
       "      <td>OVAL WALL MIRROR DIAMANTE</td>\n",
       "      <td>2</td>\n",
       "      <td>2011-01-19 14:22:00</td>\n",
       "      <td>9.95</td>\n",
       "      <td>14180.0</td>\n",
       "      <td>United Kingdom</td>\n",
       "      <td>2011-01-19</td>\n",
       "      <td>14:22:00</td>\n",
       "      <td>19.90</td>\n",
       "    </tr>\n",
       "    <tr>\n",
       "      <td>63611</td>\n",
       "      <td>541585</td>\n",
       "      <td>84968A</td>\n",
       "      <td>SET OF 16 VINTAGE ROSE CUTLERY</td>\n",
       "      <td>1</td>\n",
       "      <td>2011-01-19 14:22:00</td>\n",
       "      <td>12.75</td>\n",
       "      <td>14180.0</td>\n",
       "      <td>United Kingdom</td>\n",
       "      <td>2011-01-19</td>\n",
       "      <td>14:22:00</td>\n",
       "      <td>12.75</td>\n",
       "    </tr>\n",
       "    <tr>\n",
       "      <td>63612</td>\n",
       "      <td>541585</td>\n",
       "      <td>85159B</td>\n",
       "      <td>WHITE TEA,COFFEE,SUGAR JARS</td>\n",
       "      <td>2</td>\n",
       "      <td>2011-01-19 14:22:00</td>\n",
       "      <td>6.35</td>\n",
       "      <td>14180.0</td>\n",
       "      <td>United Kingdom</td>\n",
       "      <td>2011-01-19</td>\n",
       "      <td>14:22:00</td>\n",
       "      <td>12.70</td>\n",
       "    </tr>\n",
       "  </tbody>\n",
       "</table>\n",
       "</div>"
      ],
      "text/plain": [
       "      InvoiceNo StockCode                         Description  Quantity  \\\n",
       "2365     536585     37449  CERAMIC CAKE STAND + HANGING CAKES         2   \n",
       "38542    539585     21009                                 NaN         1   \n",
       "63610    541585     22167          OVAL WALL MIRROR DIAMANTE          2   \n",
       "63611    541585    84968A      SET OF 16 VINTAGE ROSE CUTLERY         1   \n",
       "63612    541585    85159B         WHITE TEA,COFFEE,SUGAR JARS         2   \n",
       "\n",
       "              InvoiceDate  UnitPrice  CustomerID         Country        Date  \\\n",
       "2365  2010-12-01 16:24:00       9.95     17460.0  United Kingdom  2010-12-01   \n",
       "38542 2010-12-20 12:54:00       0.00         NaN  United Kingdom  2010-12-20   \n",
       "63610 2011-01-19 14:22:00       9.95     14180.0  United Kingdom  2011-01-19   \n",
       "63611 2011-01-19 14:22:00      12.75     14180.0  United Kingdom  2011-01-19   \n",
       "63612 2011-01-19 14:22:00       6.35     14180.0  United Kingdom  2011-01-19   \n",
       "\n",
       "           Time  Amount  \n",
       "2365   16:24:00   19.90  \n",
       "38542  12:54:00    0.00  \n",
       "63610  14:22:00   19.90  \n",
       "63611  14:22:00   12.75  \n",
       "63612  14:22:00   12.70  "
      ]
     },
     "execution_count": 435,
     "metadata": {},
     "output_type": "execute_result"
    }
   ],
   "source": [
    "#data[\"College\"].str.lower().str.endswith(search, na = False) \n",
    "xx = da['InvoiceNo'].str.lower().str.endswith(\"585\", na = False)\n",
    "da[xx].head()"
   ]
  },
  {
   "cell_type": "markdown",
   "metadata": {},
   "source": [
    "## Customer Lifetime Value\n",
    "\n",
    "Customer Lifetime Value (CLV) is a monetary value that represents the amount of revenue or profit a customer will give the company over the period of the relationship. \n",
    "\n",
    " Focusing on the customers who have a high value of CLV would turn out to be a profitable decision for the business.\n",
    "\n",
    " Here we calculate the CLV of every customer associated with the business. "
   ]
  },
  {
   "cell_type": "code",
   "execution_count": 436,
   "metadata": {
    "ExecuteTime": {
     "end_time": "2020-08-07T16:46:56.301327Z",
     "start_time": "2020-08-07T16:46:56.287364Z"
    }
   },
   "outputs": [
    {
     "data": {
      "text/html": [
       "<div>\n",
       "<style scoped>\n",
       "    .dataframe tbody tr th:only-of-type {\n",
       "        vertical-align: middle;\n",
       "    }\n",
       "\n",
       "    .dataframe tbody tr th {\n",
       "        vertical-align: top;\n",
       "    }\n",
       "\n",
       "    .dataframe thead th {\n",
       "        text-align: right;\n",
       "    }\n",
       "</style>\n",
       "<table border=\"1\" class=\"dataframe\">\n",
       "  <thead>\n",
       "    <tr style=\"text-align: right;\">\n",
       "      <th></th>\n",
       "      <th>InvoiceNo</th>\n",
       "      <th>StockCode</th>\n",
       "      <th>Description</th>\n",
       "      <th>Quantity</th>\n",
       "      <th>InvoiceDate</th>\n",
       "      <th>UnitPrice</th>\n",
       "      <th>CustomerID</th>\n",
       "      <th>Country</th>\n",
       "      <th>Date</th>\n",
       "      <th>Time</th>\n",
       "      <th>Amount</th>\n",
       "    </tr>\n",
       "  </thead>\n",
       "  <tbody>\n",
       "    <tr>\n",
       "      <td>0</td>\n",
       "      <td>536365</td>\n",
       "      <td>85123A</td>\n",
       "      <td>WHITE HANGING HEART T-LIGHT HOLDER</td>\n",
       "      <td>6</td>\n",
       "      <td>2010-12-01 08:26:00</td>\n",
       "      <td>2.55</td>\n",
       "      <td>17850</td>\n",
       "      <td>United Kingdom</td>\n",
       "      <td>2010-12-01</td>\n",
       "      <td>08:26:00</td>\n",
       "      <td>15.30</td>\n",
       "    </tr>\n",
       "    <tr>\n",
       "      <td>1</td>\n",
       "      <td>536365</td>\n",
       "      <td>71053</td>\n",
       "      <td>WHITE METAL LANTERN</td>\n",
       "      <td>6</td>\n",
       "      <td>2010-12-01 08:26:00</td>\n",
       "      <td>3.39</td>\n",
       "      <td>17850</td>\n",
       "      <td>United Kingdom</td>\n",
       "      <td>2010-12-01</td>\n",
       "      <td>08:26:00</td>\n",
       "      <td>20.34</td>\n",
       "    </tr>\n",
       "    <tr>\n",
       "      <td>2</td>\n",
       "      <td>536365</td>\n",
       "      <td>84406B</td>\n",
       "      <td>CREAM CUPID HEARTS COAT HANGER</td>\n",
       "      <td>8</td>\n",
       "      <td>2010-12-01 08:26:00</td>\n",
       "      <td>2.75</td>\n",
       "      <td>17850</td>\n",
       "      <td>United Kingdom</td>\n",
       "      <td>2010-12-01</td>\n",
       "      <td>08:26:00</td>\n",
       "      <td>22.00</td>\n",
       "    </tr>\n",
       "    <tr>\n",
       "      <td>3</td>\n",
       "      <td>536365</td>\n",
       "      <td>84029G</td>\n",
       "      <td>KNITTED UNION FLAG HOT WATER BOTTLE</td>\n",
       "      <td>6</td>\n",
       "      <td>2010-12-01 08:26:00</td>\n",
       "      <td>3.39</td>\n",
       "      <td>17850</td>\n",
       "      <td>United Kingdom</td>\n",
       "      <td>2010-12-01</td>\n",
       "      <td>08:26:00</td>\n",
       "      <td>20.34</td>\n",
       "    </tr>\n",
       "    <tr>\n",
       "      <td>4</td>\n",
       "      <td>536365</td>\n",
       "      <td>84029E</td>\n",
       "      <td>RED WOOLLY HOTTIE WHITE HEART.</td>\n",
       "      <td>6</td>\n",
       "      <td>2010-12-01 08:26:00</td>\n",
       "      <td>3.39</td>\n",
       "      <td>17850</td>\n",
       "      <td>United Kingdom</td>\n",
       "      <td>2010-12-01</td>\n",
       "      <td>08:26:00</td>\n",
       "      <td>20.34</td>\n",
       "    </tr>\n",
       "  </tbody>\n",
       "</table>\n",
       "</div>"
      ],
      "text/plain": [
       "  InvoiceNo StockCode                          Description  Quantity  \\\n",
       "0    536365    85123A   WHITE HANGING HEART T-LIGHT HOLDER         6   \n",
       "1    536365     71053                  WHITE METAL LANTERN         6   \n",
       "2    536365    84406B       CREAM CUPID HEARTS COAT HANGER         8   \n",
       "3    536365    84029G  KNITTED UNION FLAG HOT WATER BOTTLE         6   \n",
       "4    536365    84029E       RED WOOLLY HOTTIE WHITE HEART.         6   \n",
       "\n",
       "          InvoiceDate  UnitPrice CustomerID         Country        Date  \\\n",
       "0 2010-12-01 08:26:00       2.55      17850  United Kingdom  2010-12-01   \n",
       "1 2010-12-01 08:26:00       3.39      17850  United Kingdom  2010-12-01   \n",
       "2 2010-12-01 08:26:00       2.75      17850  United Kingdom  2010-12-01   \n",
       "3 2010-12-01 08:26:00       3.39      17850  United Kingdom  2010-12-01   \n",
       "4 2010-12-01 08:26:00       3.39      17850  United Kingdom  2010-12-01   \n",
       "\n",
       "       Time  Amount  \n",
       "0  08:26:00   15.30  \n",
       "1  08:26:00   20.34  \n",
       "2  08:26:00   22.00  \n",
       "3  08:26:00   20.34  \n",
       "4  08:26:00   20.34  "
      ]
     },
     "execution_count": 436,
     "metadata": {},
     "output_type": "execute_result"
    }
   ],
   "source": [
    "da_new.head()"
   ]
  },
  {
   "cell_type": "markdown",
   "metadata": {},
   "source": [
    "### Customer Statistics"
   ]
  },
  {
   "cell_type": "markdown",
   "metadata": {},
   "source": [
    "###### For every customer, the following statistics are considered :\n",
    "&emsp;&emsp;&emsp;&emsp;&emsp;&emsp;num_transactions  : The total number of transactions the customer has made.\\\n",
    "&emsp;&emsp;&emsp;&emsp;&emsp;&emsp;total_amount          : The total amount the customer has contributed towards the business by purchasing products.\\\n",
    "&emsp;&emsp;&emsp;&emsp;&emsp;&emsp;quantity                  : The total quantity of items purchased by the customer.\\\n",
    "&emsp;&emsp;&emsp;&emsp;&emsp;&emsp;num_days             : The number of days the customer has been associated with the business"
   ]
  },
  {
   "cell_type": "code",
   "execution_count": 438,
   "metadata": {
    "ExecuteTime": {
     "end_time": "2020-08-07T16:47:08.705474Z",
     "start_time": "2020-08-07T16:47:07.583478Z"
    },
    "scrolled": true
   },
   "outputs": [
    {
     "data": {
      "text/html": [
       "<div>\n",
       "<style scoped>\n",
       "    .dataframe tbody tr th:only-of-type {\n",
       "        vertical-align: middle;\n",
       "    }\n",
       "\n",
       "    .dataframe tbody tr th {\n",
       "        vertical-align: top;\n",
       "    }\n",
       "\n",
       "    .dataframe thead th {\n",
       "        text-align: right;\n",
       "    }\n",
       "</style>\n",
       "<table border=\"1\" class=\"dataframe\">\n",
       "  <thead>\n",
       "    <tr style=\"text-align: right;\">\n",
       "      <th></th>\n",
       "      <th>num_transactions</th>\n",
       "      <th>total_amount</th>\n",
       "      <th>quantity</th>\n",
       "      <th>num_days</th>\n",
       "    </tr>\n",
       "    <tr>\n",
       "      <th>CustomerID</th>\n",
       "      <th></th>\n",
       "      <th></th>\n",
       "      <th></th>\n",
       "      <th></th>\n",
       "    </tr>\n",
       "  </thead>\n",
       "  <tbody>\n",
       "    <tr>\n",
       "      <td>12346.0</td>\n",
       "      <td>1</td>\n",
       "      <td>77183.60</td>\n",
       "      <td>74215</td>\n",
       "      <td>0</td>\n",
       "    </tr>\n",
       "    <tr>\n",
       "      <td>12347.0</td>\n",
       "      <td>182</td>\n",
       "      <td>4310.00</td>\n",
       "      <td>2458</td>\n",
       "      <td>365</td>\n",
       "    </tr>\n",
       "    <tr>\n",
       "      <td>12348.0</td>\n",
       "      <td>31</td>\n",
       "      <td>1797.24</td>\n",
       "      <td>2341</td>\n",
       "      <td>283</td>\n",
       "    </tr>\n",
       "    <tr>\n",
       "      <td>12349.0</td>\n",
       "      <td>73</td>\n",
       "      <td>1757.55</td>\n",
       "      <td>631</td>\n",
       "      <td>0</td>\n",
       "    </tr>\n",
       "    <tr>\n",
       "      <td>12350.0</td>\n",
       "      <td>17</td>\n",
       "      <td>334.40</td>\n",
       "      <td>197</td>\n",
       "      <td>0</td>\n",
       "    </tr>\n",
       "  </tbody>\n",
       "</table>\n",
       "</div>"
      ],
      "text/plain": [
       "            num_transactions  total_amount  quantity  num_days\n",
       "CustomerID                                                    \n",
       "12346.0                    1      77183.60     74215         0\n",
       "12347.0                  182       4310.00      2458       365\n",
       "12348.0                   31       1797.24      2341       283\n",
       "12349.0                   73       1757.55       631         0\n",
       "12350.0                   17        334.40       197         0"
      ]
     },
     "execution_count": 438,
     "metadata": {},
     "output_type": "execute_result"
    }
   ],
   "source": [
    "customer_grouped = da_new.groupby('CustomerID').aggregate({'InvoiceNo' : len,\n",
    "                                                           'Amount' : sum,\n",
    "                                                           'Quantity' : sum,\n",
    "                                                           'Date' : lambda date : (date.max() - date.min()).days\n",
    "                                                          })\n",
    "customer_grouped.columns = ['num_transactions', 'total_amount', 'quantity', 'num_days']\n",
    "customer_grouped.head()"
   ]
  },
  {
   "cell_type": "markdown",
   "metadata": {},
   "source": [
    "###### CLV is calculated using the following formula :\n",
    "&emsp;&emsp;&emsp;&emsp;&emsp;&emsp;CLTV = ((Average Order Value x Purchase Frequency) / Churn Rate) x Profit margin.\\\n",
    "&emsp;&emsp;&emsp;&emsp;&emsp;&emsp;Average Order Value = Total Revenue / Total Number of Orders\\\n",
    "&emsp;&emsp;&emsp;&emsp;&emsp;&emsp;Purchase Frequency =  Total Number of Orders / Total Number of Customers\\\n",
    "&emsp;&emsp;&emsp;&emsp;&emsp;&emsp;Repeat Rate = Number of customers with more than one order / Number of unique customers\\\n",
    "&emsp;&emsp;&emsp;&emsp;&emsp;&emsp;Churn Rate = 1 - Repeat Rate "
   ]
  },
  {
   "cell_type": "code",
   "execution_count": 439,
   "metadata": {
    "ExecuteTime": {
     "end_time": "2020-08-07T16:47:12.559053Z",
     "start_time": "2020-08-07T16:47:12.547094Z"
    },
    "scrolled": true
   },
   "outputs": [],
   "source": [
    "customer_grouped['AOV'] = customer_grouped['total_amount'] / customer_grouped['num_transactions']\n",
    "\n",
    "purchase_frequency = customer_grouped['num_transactions'].sum() / customer_grouped.shape[0]\n",
    "repeat_rate = customer_grouped[customer_grouped['num_transactions'] > 1].shape[0] / customer_grouped.shape[0]\n",
    "churn_rate = customer_grouped[customer_grouped['num_transactions'] == 1].shape[0] / customer_grouped.shape[0] # 1 - rep.rate\n",
    "customer_lifetime = 1 / churn_rate\n",
    "\n",
    "customer_grouped['profit_margin'] = customer_grouped['total_amount'] * 0.05  # Assume 5% profit margin"
   ]
  },
  {
   "cell_type": "markdown",
   "metadata": {},
   "source": [
    "Customer Value = Average Order Value * Purchase Frequency\\\n",
    "The profit margin is assumed to be 5%"
   ]
  },
  {
   "cell_type": "code",
   "execution_count": 440,
   "metadata": {
    "ExecuteTime": {
     "end_time": "2020-08-07T16:47:13.409293Z",
     "start_time": "2020-08-07T16:47:13.402306Z"
    }
   },
   "outputs": [],
   "source": [
    "customer_grouped['customer_value'] = customer_grouped['AOV'] * purchase_frequency\n",
    "customer_grouped['CLV'] = round((customer_grouped['customer_value'] / churn_rate) * customer_grouped['profit_margin'], 5)"
   ]
  },
  {
   "cell_type": "code",
   "execution_count": 441,
   "metadata": {
    "ExecuteTime": {
     "end_time": "2020-08-07T16:47:14.694401Z",
     "start_time": "2020-08-07T16:47:14.688376Z"
    }
   },
   "outputs": [
    {
     "name": "stdout",
     "output_type": "stream",
     "text": [
      "91.9361775927853 0.9474505723204995 0.05254942767950052 19.02970297029703\n"
     ]
    }
   ],
   "source": [
    "print(purchase_frequency, repeat_rate, churn_rate, customer_lifetime)"
   ]
  },
  {
   "cell_type": "code",
   "execution_count": 442,
   "metadata": {
    "ExecuteTime": {
     "end_time": "2020-08-07T16:47:22.146049Z",
     "start_time": "2020-08-07T16:47:22.127071Z"
    },
    "scrolled": true
   },
   "outputs": [
    {
     "data": {
      "text/html": [
       "<div>\n",
       "<style scoped>\n",
       "    .dataframe tbody tr th:only-of-type {\n",
       "        vertical-align: middle;\n",
       "    }\n",
       "\n",
       "    .dataframe tbody tr th {\n",
       "        vertical-align: top;\n",
       "    }\n",
       "\n",
       "    .dataframe thead th {\n",
       "        text-align: right;\n",
       "    }\n",
       "</style>\n",
       "<table border=\"1\" class=\"dataframe\">\n",
       "  <thead>\n",
       "    <tr style=\"text-align: right;\">\n",
       "      <th></th>\n",
       "      <th>num_transactions</th>\n",
       "      <th>total_amount</th>\n",
       "      <th>quantity</th>\n",
       "      <th>num_days</th>\n",
       "      <th>AOV</th>\n",
       "      <th>profit_margin</th>\n",
       "      <th>customer_value</th>\n",
       "      <th>CLV</th>\n",
       "    </tr>\n",
       "    <tr>\n",
       "      <th>CustomerID</th>\n",
       "      <th></th>\n",
       "      <th></th>\n",
       "      <th></th>\n",
       "      <th></th>\n",
       "      <th></th>\n",
       "      <th></th>\n",
       "      <th></th>\n",
       "      <th></th>\n",
       "    </tr>\n",
       "  </thead>\n",
       "  <tbody>\n",
       "    <tr>\n",
       "      <td>539441</td>\n",
       "      <td>1</td>\n",
       "      <td>0.42</td>\n",
       "      <td>1</td>\n",
       "      <td>0</td>\n",
       "      <td>0.420</td>\n",
       "      <td>0.0210</td>\n",
       "      <td>38.613195</td>\n",
       "      <td>15.43075</td>\n",
       "    </tr>\n",
       "    <tr>\n",
       "      <td>573589</td>\n",
       "      <td>1</td>\n",
       "      <td>0.55</td>\n",
       "      <td>1</td>\n",
       "      <td>0</td>\n",
       "      <td>0.550</td>\n",
       "      <td>0.0275</td>\n",
       "      <td>50.564898</td>\n",
       "      <td>26.46146</td>\n",
       "    </tr>\n",
       "    <tr>\n",
       "      <td>546876</td>\n",
       "      <td>2</td>\n",
       "      <td>0.84</td>\n",
       "      <td>2</td>\n",
       "      <td>0</td>\n",
       "      <td>0.420</td>\n",
       "      <td>0.0420</td>\n",
       "      <td>38.613195</td>\n",
       "      <td>30.86150</td>\n",
       "    </tr>\n",
       "    <tr>\n",
       "      <td>540833</td>\n",
       "      <td>1</td>\n",
       "      <td>0.65</td>\n",
       "      <td>1</td>\n",
       "      <td>0</td>\n",
       "      <td>0.650</td>\n",
       "      <td>0.0325</td>\n",
       "      <td>59.758515</td>\n",
       "      <td>36.95857</td>\n",
       "    </tr>\n",
       "    <tr>\n",
       "      <td>558055</td>\n",
       "      <td>2</td>\n",
       "      <td>1.07</td>\n",
       "      <td>2</td>\n",
       "      <td>0</td>\n",
       "      <td>0.535</td>\n",
       "      <td>0.0535</td>\n",
       "      <td>49.185855</td>\n",
       "      <td>50.07558</td>\n",
       "    </tr>\n",
       "  </tbody>\n",
       "</table>\n",
       "</div>"
      ],
      "text/plain": [
       "            num_transactions  total_amount  quantity  num_days    AOV  \\\n",
       "CustomerID                                                              \n",
       "539441                     1          0.42         1         0  0.420   \n",
       "573589                     1          0.55         1         0  0.550   \n",
       "546876                     2          0.84         2         0  0.420   \n",
       "540833                     1          0.65         1         0  0.650   \n",
       "558055                     2          1.07         2         0  0.535   \n",
       "\n",
       "            profit_margin  customer_value       CLV  \n",
       "CustomerID                                           \n",
       "539441             0.0210       38.613195  15.43075  \n",
       "573589             0.0275       50.564898  26.46146  \n",
       "546876             0.0420       38.613195  30.86150  \n",
       "540833             0.0325       59.758515  36.95857  \n",
       "558055             0.0535       49.185855  50.07558  "
      ]
     },
     "execution_count": 442,
     "metadata": {},
     "output_type": "execute_result"
    }
   ],
   "source": [
    "customer_grouped.sort_values('CLV').head()"
   ]
  },
  {
   "cell_type": "markdown",
   "metadata": {},
   "source": [
    "## Receny Frequency Monetary Analysis and Segmentation:-  &emsp;&emsp;&emsp;&emsp;&emsp;&emsp;\n",
    " The Receny Frequency Monetary (RFM) analysis is a technique used to segment customers based on the following factors :\\\n",
    " &emsp;&emsp;&emsp;&emsp;&emsp;&emsp; Recency (R) : How recent was the last transaction or activity the customer has made with business.\\\n",
    " &emsp;&emsp;&emsp;&emsp;&emsp;&emsp; Frequency (F) : How frequent does the customer purchase or interact with the business.\\\n",
    " &emsp;&emsp;&emsp;&emsp;&emsp;&emsp; Monetary (M) : How much does the customer spend with the business.\n",
    "\n",
    "###### RFM factors illustrate the following :\n",
    "&emsp;&emsp;&emsp;&emsp;&emsp;&emsp;The more recent the purchase, the more responsive the customer is to promotions.\\\n",
    "&emsp;&emsp;&emsp;&emsp;&emsp;&emsp;The more frequently the customer buys, the more engaged and satisfied they are.\\\n",
    "&emsp;&emsp;&emsp;&emsp;&emsp;&emsp;Monetary value differentiates heavy spenders from low-value purchasers."
   ]
  },
  {
   "cell_type": "code",
   "execution_count": 443,
   "metadata": {
    "ExecuteTime": {
     "end_time": "2020-08-07T16:47:24.066222Z",
     "start_time": "2020-08-07T16:47:24.040291Z"
    },
    "scrolled": true
   },
   "outputs": [
    {
     "data": {
      "text/plain": [
       "(530104, 2)"
      ]
     },
     "execution_count": 443,
     "metadata": {},
     "output_type": "execute_result"
    }
   ],
   "source": [
    "da_new[['CustomerID','Country']].shape"
   ]
  },
  {
   "cell_type": "markdown",
   "metadata": {},
   "source": [
    "Day after the maximum date available is chosen as the day of analysis"
   ]
  },
  {
   "cell_type": "code",
   "execution_count": 444,
   "metadata": {
    "ExecuteTime": {
     "end_time": "2020-08-07T16:47:26.448103Z",
     "start_time": "2020-08-07T16:47:26.442117Z"
    },
    "scrolled": true
   },
   "outputs": [],
   "source": [
    "rfm_date = pd.to_datetime(da_new.InvoiceDate.max()) + pd.to_timedelta(1, unit = 'd') # day of analysis"
   ]
  },
  {
   "cell_type": "markdown",
   "metadata": {},
   "source": [
    "###### The following statistics are calculated for each customer :-\n",
    "&emsp;&emsp;&emsp;&emsp;&emsp;&emsp; First_Purchase : Time since the customer's first ever transaction.\\\n",
    "&emsp;&emsp;&emsp;&emsp;&emsp;&emsp; Tenure : Time spent by the customer with the business (i.e) time between the most recent transaction and the first transaction.\\\n",
    "&emsp;&emsp;&emsp;&emsp;&emsp;&emsp; Recency : Time since the customer's most recent transaction.\\\n",
    "&emsp;&emsp;&emsp;&emsp;&emsp;&emsp; Frequency : Number of transactions made by the customer.\\\n",
    "&emsp;&emsp;&emsp;&emsp;&emsp;&emsp; Monetary : Sum of total amount spent by the customer."
   ]
  },
  {
   "cell_type": "code",
   "execution_count": 445,
   "metadata": {
    "ExecuteTime": {
     "end_time": "2020-08-07T16:47:27.900225Z",
     "start_time": "2020-08-07T16:47:27.894240Z"
    },
    "scrolled": true
   },
   "outputs": [],
   "source": [
    "d1 = lambda date : (pd.to_datetime(rfm_date) - pd.to_datetime(date.max())).days\n",
    "d2 = lambda date : (pd.to_datetime(rfm_date) - pd.to_datetime(date.min())).days\n",
    "d3 = lambda date : (pd.to_datetime(date.max()) - pd.to_datetime(date.min())).days"
   ]
  },
  {
   "cell_type": "code",
   "execution_count": 446,
   "metadata": {
    "ExecuteTime": {
     "end_time": "2020-08-07T16:47:33.362431Z",
     "start_time": "2020-08-07T16:47:30.313152Z"
    },
    "scrolled": true
   },
   "outputs": [
    {
     "name": "stderr",
     "output_type": "stream",
     "text": [
      "C:\\Users\\Nicky\\AppData\\Roaming\\Python\\Python37\\site-packages\\pandas\\core\\groupby\\generic.py:1455: FutureWarning: using a dict with renaming is deprecated and will be removed\n",
      "in a future version.\n",
      "\n",
      "For column-specific groupby renaming, use named aggregation\n",
      "\n",
      "    >>> df.groupby(...).agg(name=('column', aggfunc))\n",
      "\n",
      "  return super().aggregate(arg, *args, **kwargs)\n"
     ]
    },
    {
     "data": {
      "text/html": [
       "<div>\n",
       "<style scoped>\n",
       "    .dataframe tbody tr th:only-of-type {\n",
       "        vertical-align: middle;\n",
       "    }\n",
       "\n",
       "    .dataframe tbody tr th {\n",
       "        vertical-align: top;\n",
       "    }\n",
       "\n",
       "    .dataframe thead th {\n",
       "        text-align: right;\n",
       "    }\n",
       "</style>\n",
       "<table border=\"1\" class=\"dataframe\">\n",
       "  <thead>\n",
       "    <tr style=\"text-align: right;\">\n",
       "      <th></th>\n",
       "      <th>First_Purchase</th>\n",
       "      <th>Tenure</th>\n",
       "      <th>Recency</th>\n",
       "      <th>Frequency</th>\n",
       "      <th>Monetary</th>\n",
       "    </tr>\n",
       "    <tr>\n",
       "      <th>CustomerID</th>\n",
       "      <th></th>\n",
       "      <th></th>\n",
       "      <th></th>\n",
       "      <th></th>\n",
       "      <th></th>\n",
       "    </tr>\n",
       "  </thead>\n",
       "  <tbody>\n",
       "    <tr>\n",
       "      <td>12346.0</td>\n",
       "      <td>326</td>\n",
       "      <td>0</td>\n",
       "      <td>326</td>\n",
       "      <td>1</td>\n",
       "      <td>77183.60</td>\n",
       "    </tr>\n",
       "    <tr>\n",
       "      <td>12347.0</td>\n",
       "      <td>367</td>\n",
       "      <td>365</td>\n",
       "      <td>2</td>\n",
       "      <td>182</td>\n",
       "      <td>4310.00</td>\n",
       "    </tr>\n",
       "    <tr>\n",
       "      <td>12348.0</td>\n",
       "      <td>358</td>\n",
       "      <td>282</td>\n",
       "      <td>75</td>\n",
       "      <td>31</td>\n",
       "      <td>1797.24</td>\n",
       "    </tr>\n",
       "    <tr>\n",
       "      <td>12349.0</td>\n",
       "      <td>19</td>\n",
       "      <td>0</td>\n",
       "      <td>19</td>\n",
       "      <td>73</td>\n",
       "      <td>1757.55</td>\n",
       "    </tr>\n",
       "    <tr>\n",
       "      <td>12350.0</td>\n",
       "      <td>310</td>\n",
       "      <td>0</td>\n",
       "      <td>310</td>\n",
       "      <td>17</td>\n",
       "      <td>334.40</td>\n",
       "    </tr>\n",
       "  </tbody>\n",
       "</table>\n",
       "</div>"
      ],
      "text/plain": [
       "            First_Purchase  Tenure  Recency  Frequency  Monetary\n",
       "CustomerID                                                      \n",
       "12346.0                326       0      326          1  77183.60\n",
       "12347.0                367     365        2        182   4310.00\n",
       "12348.0                358     282       75         31   1797.24\n",
       "12349.0                 19       0       19         73   1757.55\n",
       "12350.0                310       0      310         17    334.40"
      ]
     },
     "execution_count": 446,
     "metadata": {},
     "output_type": "execute_result"
    }
   ],
   "source": [
    "cust_rfm = da_new.groupby('CustomerID').aggregate({'InvoiceDate' : {'d1' : d1, 'd2' : d2, 'd3' : d3},\n",
    "                                                   'InvoiceNo' : len,\n",
    "                                                   'Amount' : sum,\n",
    "                                                  })\n",
    "\n",
    "cust_rfm.columns = ['Recency', 'First_Purchase', 'Tenure', 'Frequency', 'Monetary']\n",
    "cust_rfm = cust_rfm[['First_Purchase', 'Tenure', 'Recency', 'Frequency', 'Monetary']]\n",
    "cust_rfm.head()"
   ]
  },
  {
   "cell_type": "markdown",
   "metadata": {},
   "source": [
    "In each metric, the customers are grouped into 5 categories based on the quantiles such the distribution of customers in each group is almost equal.\\\n",
    "The score '5' denotes the best customer category and '1' denotes the poorest customer category.\n",
    "\n",
    " Recency : Customers with a very low recency value belong to group 5. This means they have made a transaction very recently.\n",
    " \n",
    " Frequency : Customers with a very high frequency belong to group 5. This means they have made a high number of transactions.\n",
    " \n",
    " Monetary : Customer with a very high monetary value belong to group 5. This means they have spent a lot on purhcasing products.   \n"
   ]
  },
  {
   "cell_type": "code",
   "execution_count": 447,
   "metadata": {
    "ExecuteTime": {
     "end_time": "2020-08-07T16:47:36.681207Z",
     "start_time": "2020-08-07T16:47:36.667213Z"
    },
    "scrolled": true
   },
   "outputs": [],
   "source": [
    "cust_rfm['Recency_Score'] = pd.qcut(cust_rfm['Recency'], 5, labels = list(reversed(range(1,6))))\n",
    "cust_rfm['Frequency_Score'] = pd.qcut(cust_rfm['Frequency'], 5, labels = range(1,6))\n",
    "cust_rfm['Monetary_Score'] = pd.qcut(cust_rfm['Monetary'], 5, labels = range(1,6))"
   ]
  },
  {
   "cell_type": "markdown",
   "metadata": {
    "ExecuteTime": {
     "end_time": "2020-08-07T16:48:18.235576Z",
     "start_time": "2020-08-07T16:48:18.228590Z"
    }
   },
   "source": [
    "Plot below shows the top 5 Recency, Frequency and Monetary values"
   ]
  },
  {
   "cell_type": "code",
   "execution_count": 450,
   "metadata": {
    "ExecuteTime": {
     "end_time": "2020-08-07T16:48:27.139853Z",
     "start_time": "2020-08-07T16:48:26.710964Z"
    }
   },
   "outputs": [
    {
     "data": {
      "image/png": "[encoded data removed]",
      "text/plain": [
       "<Figure size 864x720 with 3 Axes>"
      ]
     },
     "metadata": {},
     "output_type": "display_data"
    }
   ],
   "source": [
    "plt.figure(figsize=(12,10))\n",
    "sns.set_style(\"darkgrid\")\n",
    "plt.subplot(3,1,1)\n",
    "cust_rfm['Recency'].value_counts().iloc[:5].plot(kind = 'bar', legend = True, grid = True)\n",
    "plt.subplot(3,1,2)\n",
    "cust_rfm['Frequency'].value_counts().iloc[:5].plot(kind = 'bar', legend = True, grid = True)\n",
    "plt.subplot(3,1,3)\n",
    "cust_rfm['Monetary'].value_counts().iloc[:5].plot(kind = 'bar', legend = True, grid = True) # not very useful\n",
    "plt.show()"
   ]
  },
  {
   "cell_type": "markdown",
   "metadata": {},
   "source": [
    "The final RFM score is calculated using a weighted average of the three values R, F and M.\\\n",
    "The weights are distributed as follows : M = 0.4 ; F = 0.35 ; R = 0.25\n",
    "\n",
    "Since this business deals mostly with wholesale purchasers, the amount spent is considered to be the most important factor. The number of products purchased is the next important factor and lastly the recency of purchase."
   ]
  },
  {
   "cell_type": "code",
   "execution_count": 451,
   "metadata": {
    "ExecuteTime": {
     "end_time": "2020-08-07T16:48:29.913499Z",
     "start_time": "2020-08-07T16:48:29.908516Z"
    }
   },
   "outputs": [],
   "source": [
    "def weighted_score(score, weights): #R,F,M\n",
    "    return sum(list(map(lambda x : x[0]*x[1], list(zip(score, weights))))) / (sum(weights))"
   ]
  },
  {
   "cell_type": "markdown",
   "metadata": {},
   "source": [
    "RFM_Avg : Normal average of the three RFM scores.\\\n",
    "RFM_Combined : The concatenation of the three RFM scores.\\\n",
    "RFM_Modified : Weighted average of the RFM scores."
   ]
  },
  {
   "cell_type": "code",
   "execution_count": 452,
   "metadata": {
    "ExecuteTime": {
     "end_time": "2020-08-07T16:48:32.521207Z",
     "start_time": "2020-08-07T16:48:31.200672Z"
    },
    "scrolled": true
   },
   "outputs": [],
   "source": [
    "cust_rfm['RFM_Avg'] = cust_rfm[['Recency_Score', 'Frequency_Score', 'Monetary_Score']].sum(axis = 1) / 3\n",
    "cust_rfm['RFM_Combined'] = cust_rfm[['Recency_Score', 'Frequency_Score', 'Monetary_Score']].apply(lambda x : int(str(x[0]) + str(x[1]) + str(x[2])), axis = 1)\n",
    "cust_rfm['RFM_Modified'] = cust_rfm[['Recency_Score', 'Frequency_Score', 'Monetary_Score']].apply(weighted_score, weights = [0.25, 0.35, 0.4], axis = 1)"
   ]
  },
  {
   "cell_type": "code",
   "execution_count": 453,
   "metadata": {
    "ExecuteTime": {
     "end_time": "2020-08-07T16:48:32.681713Z",
     "start_time": "2020-08-07T16:48:32.676726Z"
    }
   },
   "outputs": [
    {
     "data": {
      "text/plain": [
       "81"
      ]
     },
     "execution_count": 453,
     "metadata": {},
     "output_type": "execute_result"
    }
   ],
   "source": [
    "cust_rfm['RFM_Modified'].nunique()"
   ]
  },
  {
   "cell_type": "code",
   "execution_count": 454,
   "metadata": {
    "ExecuteTime": {
     "end_time": "2020-08-07T16:48:32.859238Z",
     "start_time": "2020-08-07T16:48:32.846277Z"
    }
   },
   "outputs": [
    {
     "data": {
      "text/plain": [
       "2.333333    561\n",
       "3.666667    546\n",
       "3.333333    515\n",
       "2.666667    491\n",
       "3.000000    473\n",
       "2.000000    455\n",
       "4.000000    449\n",
       "1.666667    445\n",
       "4.333333    384\n",
       "5.000000    377\n",
       "1.333333    368\n",
       "4.666667    365\n",
       "1.000000    337\n",
       "Name: RFM_Avg, dtype: int64"
      ]
     },
     "execution_count": 454,
     "metadata": {},
     "output_type": "execute_result"
    }
   ],
   "source": [
    "cust_rfm['RFM_Avg'].value_counts()"
   ]
  },
  {
   "cell_type": "code",
   "execution_count": 455,
   "metadata": {
    "ExecuteTime": {
     "end_time": "2020-08-07T16:48:34.777822Z",
     "start_time": "2020-08-07T16:48:34.771837Z"
    }
   },
   "outputs": [
    {
     "data": {
      "text/plain": [
       "81"
      ]
     },
     "execution_count": 455,
     "metadata": {},
     "output_type": "execute_result"
    }
   ],
   "source": [
    "cust_rfm['RFM_Modified'].nunique()"
   ]
  },
  {
   "cell_type": "code",
   "execution_count": 456,
   "metadata": {
    "ExecuteTime": {
     "end_time": "2020-08-07T16:48:35.925519Z",
     "start_time": "2020-08-07T16:48:35.919536Z"
    },
    "scrolled": true
   },
   "outputs": [
    {
     "data": {
      "text/plain": [
       "113"
      ]
     },
     "execution_count": 456,
     "metadata": {},
     "output_type": "execute_result"
    }
   ],
   "source": [
    "cust_rfm['RFM_Combined'].nunique()"
   ]
  },
  {
   "cell_type": "code",
   "execution_count": 457,
   "metadata": {
    "ExecuteTime": {
     "end_time": "2020-08-07T16:48:43.601598Z",
     "start_time": "2020-08-07T16:48:43.582681Z"
    },
    "scrolled": true
   },
   "outputs": [
    {
     "data": {
      "text/html": [
       "<div>\n",
       "<style scoped>\n",
       "    .dataframe tbody tr th:only-of-type {\n",
       "        vertical-align: middle;\n",
       "    }\n",
       "\n",
       "    .dataframe tbody tr th {\n",
       "        vertical-align: top;\n",
       "    }\n",
       "\n",
       "    .dataframe thead th {\n",
       "        text-align: right;\n",
       "    }\n",
       "</style>\n",
       "<table border=\"1\" class=\"dataframe\">\n",
       "  <thead>\n",
       "    <tr style=\"text-align: right;\">\n",
       "      <th></th>\n",
       "      <th>RFM_Combined</th>\n",
       "      <th>RFM_Modified</th>\n",
       "    </tr>\n",
       "    <tr>\n",
       "      <th>CustomerID</th>\n",
       "      <th></th>\n",
       "      <th></th>\n",
       "    </tr>\n",
       "  </thead>\n",
       "  <tbody>\n",
       "    <tr>\n",
       "      <td>12347.0</td>\n",
       "      <td>555</td>\n",
       "      <td>5.00</td>\n",
       "    </tr>\n",
       "    <tr>\n",
       "      <td>12395.0</td>\n",
       "      <td>455</td>\n",
       "      <td>4.75</td>\n",
       "    </tr>\n",
       "    <tr>\n",
       "      <td>12388.0</td>\n",
       "      <td>545</td>\n",
       "      <td>4.65</td>\n",
       "    </tr>\n",
       "    <tr>\n",
       "      <td>12877.0</td>\n",
       "      <td>554</td>\n",
       "      <td>4.60</td>\n",
       "    </tr>\n",
       "    <tr>\n",
       "      <td>12359.0</td>\n",
       "      <td>355</td>\n",
       "      <td>4.50</td>\n",
       "    </tr>\n",
       "  </tbody>\n",
       "</table>\n",
       "</div>"
      ],
      "text/plain": [
       "            RFM_Combined  RFM_Modified\n",
       "CustomerID                            \n",
       "12347.0              555          5.00\n",
       "12395.0              455          4.75\n",
       "12388.0              545          4.65\n",
       "12877.0              554          4.60\n",
       "12359.0              355          4.50"
      ]
     },
     "execution_count": 457,
     "metadata": {},
     "output_type": "execute_result"
    }
   ],
   "source": [
    "cust_rfm[['RFM_Combined', 'RFM_Modified']].drop_duplicates().sort_values('RFM_Modified', ascending = False).head()"
   ]
  },
  {
   "cell_type": "code",
   "execution_count": 458,
   "metadata": {
    "ExecuteTime": {
     "end_time": "2020-08-07T16:48:45.390132Z",
     "start_time": "2020-08-07T16:48:45.132792Z"
    },
    "scrolled": true
   },
   "outputs": [
    {
     "data": {
      "image/png": "[encoded data removed]",
      "text/plain": [
       "<Figure size 432x288 with 1 Axes>"
      ]
     },
     "metadata": {},
     "output_type": "display_data"
    }
   ],
   "source": [
    "cust_rfm['RFM_Combined'].value_counts().reset_index(name = 'customer_count').query(\"customer_count > 100\").set_index('index').plot(kind = 'bar')\n",
    "plt.show()\n",
    "# 3 out of our top 5 segments perform very well. However the poorest segment comes second with 272 customers."
   ]
  },
  {
   "cell_type": "code",
   "execution_count": 459,
   "metadata": {
    "ExecuteTime": {
     "end_time": "2020-08-07T16:48:46.528219Z",
     "start_time": "2020-08-07T16:48:46.521235Z"
    },
    "scrolled": true
   },
   "outputs": [
    {
     "data": {
      "text/plain": [
       "5.000000    377\n",
       "4.666667    365\n",
       "4.333333    384\n",
       "4.000000    449\n",
       "3.666667    546\n",
       "3.333333    515\n",
       "3.000000    473\n",
       "2.666667    491\n",
       "2.333333    561\n",
       "2.000000    455\n",
       "1.666667    445\n",
       "1.333333    368\n",
       "1.000000    337\n",
       "Name: RFM_Avg, dtype: int64"
      ]
     },
     "execution_count": 459,
     "metadata": {},
     "output_type": "execute_result"
    }
   ],
   "source": [
    "cust_rfm['RFM_Avg'].value_counts().sort_index(ascending = False)"
   ]
  },
  {
   "cell_type": "markdown",
   "metadata": {},
   "source": [
    "### RFM Segmentation :-\n",
    "Using the RFM scores, the customers are segmented into groups using the KMeans clustering algorithm.\\\n",
    "Each cluster will have customers with similar behaviour and thus can be targetted separately."
   ]
  },
  {
   "cell_type": "code",
   "execution_count": 460,
   "metadata": {
    "ExecuteTime": {
     "end_time": "2020-08-07T16:48:49.260217Z",
     "start_time": "2020-08-07T16:48:49.217364Z"
    },
    "scrolled": true
   },
   "outputs": [
    {
     "data": {
      "text/html": [
       "<div>\n",
       "<style scoped>\n",
       "    .dataframe tbody tr th:only-of-type {\n",
       "        vertical-align: middle;\n",
       "    }\n",
       "\n",
       "    .dataframe tbody tr th {\n",
       "        vertical-align: top;\n",
       "    }\n",
       "\n",
       "    .dataframe thead th {\n",
       "        text-align: right;\n",
       "    }\n",
       "</style>\n",
       "<table border=\"1\" class=\"dataframe\">\n",
       "  <thead>\n",
       "    <tr style=\"text-align: right;\">\n",
       "      <th></th>\n",
       "      <th>First_Purchase</th>\n",
       "      <th>Tenure</th>\n",
       "      <th>Recency</th>\n",
       "      <th>Frequency</th>\n",
       "      <th>Monetary</th>\n",
       "      <th>RFM_Avg</th>\n",
       "      <th>RFM_Combined</th>\n",
       "      <th>RFM_Modified</th>\n",
       "    </tr>\n",
       "  </thead>\n",
       "  <tbody>\n",
       "    <tr>\n",
       "      <td>count</td>\n",
       "      <td>5766.000000</td>\n",
       "      <td>5766.000000</td>\n",
       "      <td>5766.000000</td>\n",
       "      <td>5766.000000</td>\n",
       "      <td>5766.000000</td>\n",
       "      <td>5766.000000</td>\n",
       "      <td>5766.000000</td>\n",
       "      <td>5766.000000</td>\n",
       "    </tr>\n",
       "    <tr>\n",
       "      <td>mean</td>\n",
       "      <td>215.891953</td>\n",
       "      <td>98.141866</td>\n",
       "      <td>117.506937</td>\n",
       "      <td>91.936178</td>\n",
       "      <td>1849.927947</td>\n",
       "      <td>2.997514</td>\n",
       "      <td>334.052376</td>\n",
       "      <td>2.996124</td>\n",
       "    </tr>\n",
       "    <tr>\n",
       "      <td>std</td>\n",
       "      <td>116.575700</td>\n",
       "      <td>127.620907</td>\n",
       "      <td>111.299279</td>\n",
       "      <td>209.864590</td>\n",
       "      <td>7919.026861</td>\n",
       "      <td>1.168659</td>\n",
       "      <td>148.705340</td>\n",
       "      <td>1.195744</td>\n",
       "    </tr>\n",
       "    <tr>\n",
       "      <td>min</td>\n",
       "      <td>1.000000</td>\n",
       "      <td>0.000000</td>\n",
       "      <td>1.000000</td>\n",
       "      <td>1.000000</td>\n",
       "      <td>0.420000</td>\n",
       "      <td>1.000000</td>\n",
       "      <td>111.000000</td>\n",
       "      <td>1.000000</td>\n",
       "    </tr>\n",
       "    <tr>\n",
       "      <td>25%</td>\n",
       "      <td>108.250000</td>\n",
       "      <td>0.000000</td>\n",
       "      <td>23.000000</td>\n",
       "      <td>14.000000</td>\n",
       "      <td>240.775000</td>\n",
       "      <td>2.000000</td>\n",
       "      <td>213.000000</td>\n",
       "      <td>2.000000</td>\n",
       "    </tr>\n",
       "    <tr>\n",
       "      <td>50%</td>\n",
       "      <td>237.000000</td>\n",
       "      <td>0.000000</td>\n",
       "      <td>72.000000</td>\n",
       "      <td>40.000000</td>\n",
       "      <td>632.475000</td>\n",
       "      <td>3.000000</td>\n",
       "      <td>333.000000</td>\n",
       "      <td>3.000000</td>\n",
       "    </tr>\n",
       "    <tr>\n",
       "      <td>75%</td>\n",
       "      <td>318.000000</td>\n",
       "      <td>204.000000</td>\n",
       "      <td>199.000000</td>\n",
       "      <td>105.000000</td>\n",
       "      <td>1642.825000</td>\n",
       "      <td>4.000000</td>\n",
       "      <td>453.000000</td>\n",
       "      <td>4.000000</td>\n",
       "    </tr>\n",
       "    <tr>\n",
       "      <td>max</td>\n",
       "      <td>374.000000</td>\n",
       "      <td>373.000000</td>\n",
       "      <td>374.000000</td>\n",
       "      <td>7847.000000</td>\n",
       "      <td>280206.020000</td>\n",
       "      <td>5.000000</td>\n",
       "      <td>555.000000</td>\n",
       "      <td>5.000000</td>\n",
       "    </tr>\n",
       "  </tbody>\n",
       "</table>\n",
       "</div>"
      ],
      "text/plain": [
       "       First_Purchase       Tenure      Recency    Frequency       Monetary  \\\n",
       "count     5766.000000  5766.000000  5766.000000  5766.000000    5766.000000   \n",
       "mean       215.891953    98.141866   117.506937    91.936178    1849.927947   \n",
       "std        116.575700   127.620907   111.299279   209.864590    7919.026861   \n",
       "min          1.000000     0.000000     1.000000     1.000000       0.420000   \n",
       "25%        108.250000     0.000000    23.000000    14.000000     240.775000   \n",
       "50%        237.000000     0.000000    72.000000    40.000000     632.475000   \n",
       "75%        318.000000   204.000000   199.000000   105.000000    1642.825000   \n",
       "max        374.000000   373.000000   374.000000  7847.000000  280206.020000   \n",
       "\n",
       "           RFM_Avg  RFM_Combined  RFM_Modified  \n",
       "count  5766.000000   5766.000000   5766.000000  \n",
       "mean      2.997514    334.052376      2.996124  \n",
       "std       1.168659    148.705340      1.195744  \n",
       "min       1.000000    111.000000      1.000000  \n",
       "25%       2.000000    213.000000      2.000000  \n",
       "50%       3.000000    333.000000      3.000000  \n",
       "75%       4.000000    453.000000      4.000000  \n",
       "max       5.000000    555.000000      5.000000  "
      ]
     },
     "execution_count": 460,
     "metadata": {},
     "output_type": "execute_result"
    }
   ],
   "source": [
    "cust_rfm.describe()"
   ]
  },
  {
   "cell_type": "markdown",
   "metadata": {},
   "source": [
    "###### KMeans : Assumptions to Satisfy\n",
    "&emsp;&emsp;&emsp;&emsp;&emsp;&emsp;    1. Symmetric distribution of variables (Remove Skew)\\\n",
    "&emsp;&emsp;&emsp;&emsp;&emsp;&emsp; 2. Variables should have similar mean and variance"
   ]
  },
  {
   "cell_type": "markdown",
   "metadata": {},
   "source": [
    "Plotting the distribution of the variables, we see that all of the variables are skewed to the right, which shifts the mean towards the left."
   ]
  },
  {
   "cell_type": "code",
   "execution_count": 461,
   "metadata": {
    "ExecuteTime": {
     "end_time": "2020-08-07T16:48:52.393481Z",
     "start_time": "2020-08-07T16:48:51.629444Z"
    },
    "scrolled": false
   },
   "outputs": [
    {
     "data": {
      "image/png": "[encoded data removed]",
      "text/plain": [
       "<Figure size 864x864 with 3 Axes>"
      ]
     },
     "metadata": {},
     "output_type": "display_data"
    }
   ],
   "source": [
    "#RFM Distribution :-\n",
    "\n",
    "plt.figure(figsize = (12,12))\n",
    "sns.set_style(\"darkgrid\")\n",
    "plt.subplot(4,1,1)\n",
    "sns.distplot(cust_rfm['Recency'])\n",
    "plt.subplot(4,1,2)\n",
    "sns.distplot(cust_rfm['Frequency'])\n",
    "plt.subplot(4,1,3)\n",
    "sns.distplot(cust_rfm['Monetary'])\n",
    "plt.show()"
   ]
  },
  {
   "cell_type": "markdown",
   "metadata": {},
   "source": [
    "The skewness of the distribution can be removed by applying some transformation function. Here we apply a very simple transformation function called the 'log transformation'.\\\n",
    "Since log 0 is not defined, we add a small value 0.001 to all the elements. This makes the transformation possible and unbiased"
   ]
  },
  {
   "cell_type": "code",
   "execution_count": 462,
   "metadata": {
    "ExecuteTime": {
     "end_time": "2020-08-07T16:48:54.231908Z",
     "start_time": "2020-08-07T16:48:54.224912Z"
    },
    "scrolled": true
   },
   "outputs": [],
   "source": [
    "cluster_rfm = cust_rfm[['Recency', 'Frequency', 'Monetary', 'First_Purchase']] + 0.001\n",
    "cluster_rfm_log = cluster_rfm.apply(np.log) "
   ]
  },
  {
   "cell_type": "code",
   "execution_count": 463,
   "metadata": {
    "ExecuteTime": {
     "end_time": "2020-08-07T16:48:54.826574Z",
     "start_time": "2020-08-07T16:48:54.802638Z"
    },
    "scrolled": true
   },
   "outputs": [
    {
     "data": {
      "text/html": [
       "<div>\n",
       "<style scoped>\n",
       "    .dataframe tbody tr th:only-of-type {\n",
       "        vertical-align: middle;\n",
       "    }\n",
       "\n",
       "    .dataframe tbody tr th {\n",
       "        vertical-align: top;\n",
       "    }\n",
       "\n",
       "    .dataframe thead th {\n",
       "        text-align: right;\n",
       "    }\n",
       "</style>\n",
       "<table border=\"1\" class=\"dataframe\">\n",
       "  <thead>\n",
       "    <tr style=\"text-align: right;\">\n",
       "      <th></th>\n",
       "      <th>Recency</th>\n",
       "      <th>Frequency</th>\n",
       "      <th>Monetary</th>\n",
       "      <th>First_Purchase</th>\n",
       "    </tr>\n",
       "  </thead>\n",
       "  <tbody>\n",
       "    <tr>\n",
       "      <td>count</td>\n",
       "      <td>5766.00</td>\n",
       "      <td>5766.00</td>\n",
       "      <td>5766.00</td>\n",
       "      <td>5766.00</td>\n",
       "    </tr>\n",
       "    <tr>\n",
       "      <td>mean</td>\n",
       "      <td>4.06</td>\n",
       "      <td>3.53</td>\n",
       "      <td>6.27</td>\n",
       "      <td>5.09</td>\n",
       "    </tr>\n",
       "    <tr>\n",
       "      <td>std</td>\n",
       "      <td>1.44</td>\n",
       "      <td>1.56</td>\n",
       "      <td>1.75</td>\n",
       "      <td>0.94</td>\n",
       "    </tr>\n",
       "    <tr>\n",
       "      <td>min</td>\n",
       "      <td>0.00</td>\n",
       "      <td>0.00</td>\n",
       "      <td>-0.87</td>\n",
       "      <td>0.00</td>\n",
       "    </tr>\n",
       "    <tr>\n",
       "      <td>25%</td>\n",
       "      <td>3.14</td>\n",
       "      <td>2.64</td>\n",
       "      <td>5.48</td>\n",
       "      <td>4.68</td>\n",
       "    </tr>\n",
       "    <tr>\n",
       "      <td>50%</td>\n",
       "      <td>4.28</td>\n",
       "      <td>3.69</td>\n",
       "      <td>6.45</td>\n",
       "      <td>5.47</td>\n",
       "    </tr>\n",
       "    <tr>\n",
       "      <td>75%</td>\n",
       "      <td>5.29</td>\n",
       "      <td>4.65</td>\n",
       "      <td>7.40</td>\n",
       "      <td>5.76</td>\n",
       "    </tr>\n",
       "    <tr>\n",
       "      <td>max</td>\n",
       "      <td>5.92</td>\n",
       "      <td>8.97</td>\n",
       "      <td>12.54</td>\n",
       "      <td>5.92</td>\n",
       "    </tr>\n",
       "  </tbody>\n",
       "</table>\n",
       "</div>"
      ],
      "text/plain": [
       "       Recency  Frequency  Monetary  First_Purchase\n",
       "count  5766.00    5766.00   5766.00         5766.00\n",
       "mean      4.06       3.53      6.27            5.09\n",
       "std       1.44       1.56      1.75            0.94\n",
       "min       0.00       0.00     -0.87            0.00\n",
       "25%       3.14       2.64      5.48            4.68\n",
       "50%       4.28       3.69      6.45            5.47\n",
       "75%       5.29       4.65      7.40            5.76\n",
       "max       5.92       8.97     12.54            5.92"
      ]
     },
     "execution_count": 463,
     "metadata": {},
     "output_type": "execute_result"
    }
   ],
   "source": [
    "cluster_rfm_log.describe().round(2)"
   ]
  },
  {
   "cell_type": "markdown",
   "metadata": {},
   "source": [
    "The disribution after transformation is shown below. We see that the data is no more skewed"
   ]
  },
  {
   "cell_type": "code",
   "execution_count": 464,
   "metadata": {
    "ExecuteTime": {
     "end_time": "2020-08-07T16:48:57.391256Z",
     "start_time": "2020-08-07T16:48:56.399865Z"
    },
    "scrolled": false
   },
   "outputs": [
    {
     "data": {
      "image/png": "[encoded data removed]",
      "text/plain": [
       "<Figure size 864x864 with 3 Axes>"
      ]
     },
     "metadata": {},
     "output_type": "display_data"
    }
   ],
   "source": [
    "#RFM distribution after transformation:-\n",
    "\n",
    "plt.figure(figsize = (12,12))\n",
    "sns.set_style(\"darkgrid\")\n",
    "plt.subplot(4,1,1)\n",
    "sns.distplot(cluster_rfm_log['Recency'])\n",
    "plt.subplot(4,1,2)\n",
    "sns.distplot(cluster_rfm_log['Frequency'])\n",
    "plt.subplot(4,1,3)\n",
    "sns.distplot(cluster_rfm_log['Monetary'])\n",
    "plt.show()"
   ]
  },
  {
   "cell_type": "markdown",
   "metadata": {},
   "source": [
    "To satisfy the next assumption we need all the variables to be in the same scale and thus have a similar mean and variance.\\\n",
    "But we see below that the data is not in similar scale.\\\n",
    "So we standardize each variable by subtracting from the mean and dividing by the standard deviation."
   ]
  },
  {
   "cell_type": "code",
   "execution_count": 465,
   "metadata": {
    "ExecuteTime": {
     "end_time": "2020-08-07T16:48:59.509224Z",
     "start_time": "2020-08-07T16:48:59.485286Z"
    },
    "scrolled": true
   },
   "outputs": [
    {
     "data": {
      "text/html": [
       "<div>\n",
       "<style scoped>\n",
       "    .dataframe tbody tr th:only-of-type {\n",
       "        vertical-align: middle;\n",
       "    }\n",
       "\n",
       "    .dataframe tbody tr th {\n",
       "        vertical-align: top;\n",
       "    }\n",
       "\n",
       "    .dataframe thead th {\n",
       "        text-align: right;\n",
       "    }\n",
       "</style>\n",
       "<table border=\"1\" class=\"dataframe\">\n",
       "  <thead>\n",
       "    <tr style=\"text-align: right;\">\n",
       "      <th></th>\n",
       "      <th>Recency</th>\n",
       "      <th>Frequency</th>\n",
       "      <th>Monetary</th>\n",
       "      <th>First_Purchase</th>\n",
       "    </tr>\n",
       "  </thead>\n",
       "  <tbody>\n",
       "    <tr>\n",
       "      <td>count</td>\n",
       "      <td>5766.00</td>\n",
       "      <td>5766.00</td>\n",
       "      <td>5766.00</td>\n",
       "      <td>5766.00</td>\n",
       "    </tr>\n",
       "    <tr>\n",
       "      <td>mean</td>\n",
       "      <td>117.51</td>\n",
       "      <td>91.94</td>\n",
       "      <td>1849.93</td>\n",
       "      <td>215.89</td>\n",
       "    </tr>\n",
       "    <tr>\n",
       "      <td>std</td>\n",
       "      <td>111.30</td>\n",
       "      <td>209.86</td>\n",
       "      <td>7919.03</td>\n",
       "      <td>116.58</td>\n",
       "    </tr>\n",
       "    <tr>\n",
       "      <td>min</td>\n",
       "      <td>1.00</td>\n",
       "      <td>1.00</td>\n",
       "      <td>0.42</td>\n",
       "      <td>1.00</td>\n",
       "    </tr>\n",
       "    <tr>\n",
       "      <td>25%</td>\n",
       "      <td>23.00</td>\n",
       "      <td>14.00</td>\n",
       "      <td>240.78</td>\n",
       "      <td>108.25</td>\n",
       "    </tr>\n",
       "    <tr>\n",
       "      <td>50%</td>\n",
       "      <td>72.00</td>\n",
       "      <td>40.00</td>\n",
       "      <td>632.48</td>\n",
       "      <td>237.00</td>\n",
       "    </tr>\n",
       "    <tr>\n",
       "      <td>75%</td>\n",
       "      <td>199.00</td>\n",
       "      <td>105.00</td>\n",
       "      <td>1642.83</td>\n",
       "      <td>318.00</td>\n",
       "    </tr>\n",
       "    <tr>\n",
       "      <td>max</td>\n",
       "      <td>374.00</td>\n",
       "      <td>7847.00</td>\n",
       "      <td>280206.02</td>\n",
       "      <td>374.00</td>\n",
       "    </tr>\n",
       "  </tbody>\n",
       "</table>\n",
       "</div>"
      ],
      "text/plain": [
       "       Recency  Frequency   Monetary  First_Purchase\n",
       "count  5766.00    5766.00    5766.00         5766.00\n",
       "mean    117.51      91.94    1849.93          215.89\n",
       "std     111.30     209.86    7919.03          116.58\n",
       "min       1.00       1.00       0.42            1.00\n",
       "25%      23.00      14.00     240.78          108.25\n",
       "50%      72.00      40.00     632.48          237.00\n",
       "75%     199.00     105.00    1642.83          318.00\n",
       "max     374.00    7847.00  280206.02          374.00"
      ]
     },
     "execution_count": 465,
     "metadata": {},
     "output_type": "execute_result"
    }
   ],
   "source": [
    "cluster_rfm.describe().round(2)"
   ]
  },
  {
   "cell_type": "code",
   "execution_count": 466,
   "metadata": {
    "ExecuteTime": {
     "end_time": "2020-08-07T16:49:03.792271Z",
     "start_time": "2020-08-07T16:49:03.785292Z"
    }
   },
   "outputs": [],
   "source": [
    "Scaler = preprocessing.StandardScaler()\n",
    "Scaler.fit(cluster_rfm_log)\n",
    "cluster_rfm_trans = pd.DataFrame(Scaler.transform(cluster_rfm_log))"
   ]
  },
  {
   "cell_type": "markdown",
   "metadata": {},
   "source": [
    "After standardisation, our data now satisfies our assumption."
   ]
  },
  {
   "cell_type": "code",
   "execution_count": 467,
   "metadata": {
    "ExecuteTime": {
     "end_time": "2020-08-07T16:49:05.715038Z",
     "start_time": "2020-08-07T16:49:05.690075Z"
    }
   },
   "outputs": [
    {
     "data": {
      "text/html": [
       "<div>\n",
       "<style scoped>\n",
       "    .dataframe tbody tr th:only-of-type {\n",
       "        vertical-align: middle;\n",
       "    }\n",
       "\n",
       "    .dataframe tbody tr th {\n",
       "        vertical-align: top;\n",
       "    }\n",
       "\n",
       "    .dataframe thead th {\n",
       "        text-align: right;\n",
       "    }\n",
       "</style>\n",
       "<table border=\"1\" class=\"dataframe\">\n",
       "  <thead>\n",
       "    <tr style=\"text-align: right;\">\n",
       "      <th></th>\n",
       "      <th>0</th>\n",
       "      <th>1</th>\n",
       "      <th>2</th>\n",
       "      <th>3</th>\n",
       "    </tr>\n",
       "  </thead>\n",
       "  <tbody>\n",
       "    <tr>\n",
       "      <td>count</td>\n",
       "      <td>5766.00</td>\n",
       "      <td>5766.00</td>\n",
       "      <td>5766.00</td>\n",
       "      <td>5766.00</td>\n",
       "    </tr>\n",
       "    <tr>\n",
       "      <td>mean</td>\n",
       "      <td>-0.00</td>\n",
       "      <td>-0.00</td>\n",
       "      <td>-0.00</td>\n",
       "      <td>-0.00</td>\n",
       "    </tr>\n",
       "    <tr>\n",
       "      <td>std</td>\n",
       "      <td>1.00</td>\n",
       "      <td>1.00</td>\n",
       "      <td>1.00</td>\n",
       "      <td>1.00</td>\n",
       "    </tr>\n",
       "    <tr>\n",
       "      <td>min</td>\n",
       "      <td>-2.82</td>\n",
       "      <td>-2.27</td>\n",
       "      <td>-4.07</td>\n",
       "      <td>-5.40</td>\n",
       "    </tr>\n",
       "    <tr>\n",
       "      <td>25%</td>\n",
       "      <td>-0.64</td>\n",
       "      <td>-0.57</td>\n",
       "      <td>-0.45</td>\n",
       "      <td>-0.43</td>\n",
       "    </tr>\n",
       "    <tr>\n",
       "      <td>50%</td>\n",
       "      <td>0.15</td>\n",
       "      <td>0.10</td>\n",
       "      <td>0.11</td>\n",
       "      <td>0.40</td>\n",
       "    </tr>\n",
       "    <tr>\n",
       "      <td>75%</td>\n",
       "      <td>0.86</td>\n",
       "      <td>0.72</td>\n",
       "      <td>0.65</td>\n",
       "      <td>0.71</td>\n",
       "    </tr>\n",
       "    <tr>\n",
       "      <td>max</td>\n",
       "      <td>1.30</td>\n",
       "      <td>3.49</td>\n",
       "      <td>3.59</td>\n",
       "      <td>0.88</td>\n",
       "    </tr>\n",
       "  </tbody>\n",
       "</table>\n",
       "</div>"
      ],
      "text/plain": [
       "             0        1        2        3\n",
       "count  5766.00  5766.00  5766.00  5766.00\n",
       "mean     -0.00    -0.00    -0.00    -0.00\n",
       "std       1.00     1.00     1.00     1.00\n",
       "min      -2.82    -2.27    -4.07    -5.40\n",
       "25%      -0.64    -0.57    -0.45    -0.43\n",
       "50%       0.15     0.10     0.11     0.40\n",
       "75%       0.86     0.72     0.65     0.71\n",
       "max       1.30     3.49     3.59     0.88"
      ]
     },
     "execution_count": 467,
     "metadata": {},
     "output_type": "execute_result"
    }
   ],
   "source": [
    "cluster_rfm_trans.describe().round(2)"
   ]
  },
  {
   "cell_type": "markdown",
   "metadata": {},
   "source": [
    "To decide on the number of clusters (value of k), we use the elbow method to find clusters for different values of k and plot the sum of squares of error. "
   ]
  },
  {
   "cell_type": "code",
   "execution_count": 468,
   "metadata": {
    "ExecuteTime": {
     "end_time": "2020-08-07T16:49:15.610054Z",
     "start_time": "2020-08-07T16:49:07.634411Z"
    }
   },
   "outputs": [],
   "source": [
    "sse = []\n",
    "for k in range(1,10):\n",
    "    kmeans_result = KMeans(n_clusters = k, n_init = 50, max_iter = 500, random_state = 4).fit(cluster_rfm_trans)\n",
    "    sse.append(kmeans_result.inertia_)"
   ]
  },
  {
   "cell_type": "code",
   "execution_count": 469,
   "metadata": {
    "ExecuteTime": {
     "end_time": "2020-08-07T16:49:18.133953Z",
     "start_time": "2020-08-07T16:49:18.128929Z"
    }
   },
   "outputs": [
    {
     "data": {
      "text/plain": [
       "[23064.0,\n",
       " 15565.610576631381,\n",
       " 11552.933945539062,\n",
       " 8801.765043917072,\n",
       " 7518.726170803472,\n",
       " 6675.898486406573,\n",
       " 6072.280684193243,\n",
       " 5512.061870270065,\n",
       " 5098.479200741763]"
      ]
     },
     "execution_count": 469,
     "metadata": {},
     "output_type": "execute_result"
    }
   ],
   "source": [
    "sse"
   ]
  },
  {
   "cell_type": "code",
   "execution_count": 470,
   "metadata": {
    "ExecuteTime": {
     "end_time": "2020-08-07T16:49:19.236473Z",
     "start_time": "2020-08-07T16:49:18.984149Z"
    }
   },
   "outputs": [
    {
     "data": {
      "image/png": "[encoded data removed]",
      "text/plain": [
       "<Figure size 432x288 with 1 Axes>"
      ]
     },
     "metadata": {},
     "output_type": "display_data"
    }
   ],
   "source": [
    "sns.set_style(\"darkgrid\")\n",
    "plt.plot(range(1,10), sse, 'ro', linestyle = '--')\n",
    "plt.title('TO choose the optimal K Value')\n",
    "plt.xlabel('K - No of clusters')\n",
    "plt.ylabel('SSE')\n",
    "plt.show()"
   ]
  },
  {
   "cell_type": "markdown",
   "metadata": {},
   "source": [
    "Based on the observation we choose k = 4 as the optimal number of clusters."
   ]
  },
  {
   "cell_type": "code",
   "execution_count": 471,
   "metadata": {
    "ExecuteTime": {
     "end_time": "2020-08-07T16:49:25.265358Z",
     "start_time": "2020-08-07T16:49:23.700553Z"
    },
    "scrolled": true
   },
   "outputs": [
    {
     "data": {
      "text/html": [
       "<div>\n",
       "<style scoped>\n",
       "    .dataframe tbody tr th:only-of-type {\n",
       "        vertical-align: middle;\n",
       "    }\n",
       "\n",
       "    .dataframe tbody tr th {\n",
       "        vertical-align: top;\n",
       "    }\n",
       "\n",
       "    .dataframe thead th {\n",
       "        text-align: right;\n",
       "    }\n",
       "</style>\n",
       "<table border=\"1\" class=\"dataframe\">\n",
       "  <thead>\n",
       "    <tr style=\"text-align: right;\">\n",
       "      <th></th>\n",
       "      <th>Recency</th>\n",
       "      <th>Frequency</th>\n",
       "      <th>Monetary</th>\n",
       "      <th>First_Purchase</th>\n",
       "      <th>Cluster</th>\n",
       "    </tr>\n",
       "    <tr>\n",
       "      <th>CustomerID</th>\n",
       "      <th></th>\n",
       "      <th></th>\n",
       "      <th></th>\n",
       "      <th></th>\n",
       "      <th></th>\n",
       "    </tr>\n",
       "  </thead>\n",
       "  <tbody>\n",
       "    <tr>\n",
       "      <td>12346.0</td>\n",
       "      <td>326.001</td>\n",
       "      <td>1.001</td>\n",
       "      <td>77183.601</td>\n",
       "      <td>326.001</td>\n",
       "      <td>2</td>\n",
       "    </tr>\n",
       "    <tr>\n",
       "      <td>12347.0</td>\n",
       "      <td>2.001</td>\n",
       "      <td>182.001</td>\n",
       "      <td>4310.001</td>\n",
       "      <td>367.001</td>\n",
       "      <td>1</td>\n",
       "    </tr>\n",
       "    <tr>\n",
       "      <td>12348.0</td>\n",
       "      <td>75.001</td>\n",
       "      <td>31.001</td>\n",
       "      <td>1797.241</td>\n",
       "      <td>358.001</td>\n",
       "      <td>2</td>\n",
       "    </tr>\n",
       "    <tr>\n",
       "      <td>12349.0</td>\n",
       "      <td>19.001</td>\n",
       "      <td>73.001</td>\n",
       "      <td>1757.551</td>\n",
       "      <td>19.001</td>\n",
       "      <td>4</td>\n",
       "    </tr>\n",
       "    <tr>\n",
       "      <td>12350.0</td>\n",
       "      <td>310.001</td>\n",
       "      <td>17.001</td>\n",
       "      <td>334.401</td>\n",
       "      <td>310.001</td>\n",
       "      <td>2</td>\n",
       "    </tr>\n",
       "  </tbody>\n",
       "</table>\n",
       "</div>"
      ],
      "text/plain": [
       "            Recency  Frequency   Monetary  First_Purchase  Cluster\n",
       "CustomerID                                                        \n",
       "12346.0     326.001      1.001  77183.601         326.001        2\n",
       "12347.0       2.001    182.001   4310.001         367.001        1\n",
       "12348.0      75.001     31.001   1797.241         358.001        2\n",
       "12349.0      19.001     73.001   1757.551          19.001        4\n",
       "12350.0     310.001     17.001    334.401         310.001        2"
      ]
     },
     "execution_count": 471,
     "metadata": {},
     "output_type": "execute_result"
    }
   ],
   "source": [
    "rmf_clusters = KMeans(n_clusters = 4, n_init = 100, max_iter = 1000, random_state = 4).fit(cluster_rfm_trans)\n",
    "cluster_rfm['Cluster'] = rmf_clusters.labels_ + 1\n",
    "cluster_rfm.head()"
   ]
  },
  {
   "cell_type": "markdown",
   "metadata": {},
   "source": [
    "We see the basic statistics associated with each cluster below and we interpret the clusters"
   ]
  },
  {
   "cell_type": "code",
   "execution_count": 472,
   "metadata": {
    "ExecuteTime": {
     "end_time": "2020-08-07T16:49:28.362541Z",
     "start_time": "2020-08-07T16:49:28.330653Z"
    }
   },
   "outputs": [],
   "source": [
    "rfm_cluster_stats = cluster_rfm.groupby('Cluster').aggregate({'Recency' : {np.median, np.max, np.mean, np.std},\n",
    "                                          'Frequency' : {np.median, np.max, np.mean, np.std},\n",
    "                                          'Monetary' : {np.median, np.max, np.mean, np.std},\n",
    "                                          'First_Purchase' : {np.median, np.max, np.mean, np.std, 'count'}\n",
    "                                         }).round(0)"
   ]
  },
  {
   "cell_type": "code",
   "execution_count": 473,
   "metadata": {
    "ExecuteTime": {
     "end_time": "2020-08-07T16:49:29.740450Z",
     "start_time": "2020-08-07T16:49:29.728483Z"
    },
    "scrolled": true
   },
   "outputs": [
    {
     "data": {
      "text/html": [
       "<div>\n",
       "<style scoped>\n",
       "    .dataframe tbody tr th:only-of-type {\n",
       "        vertical-align: middle;\n",
       "    }\n",
       "\n",
       "    .dataframe tbody tr th {\n",
       "        vertical-align: top;\n",
       "    }\n",
       "\n",
       "    .dataframe thead th {\n",
       "        text-align: right;\n",
       "    }\n",
       "</style>\n",
       "<table border=\"1\" class=\"dataframe\">\n",
       "  <thead>\n",
       "    <tr style=\"text-align: right;\">\n",
       "      <th></th>\n",
       "      <th>Recency</th>\n",
       "      <th>Frequency</th>\n",
       "      <th>Monetary</th>\n",
       "      <th>First_Purchase</th>\n",
       "    </tr>\n",
       "    <tr>\n",
       "      <th>Cluster</th>\n",
       "      <th></th>\n",
       "      <th></th>\n",
       "      <th></th>\n",
       "      <th></th>\n",
       "    </tr>\n",
       "  </thead>\n",
       "  <tbody>\n",
       "    <tr>\n",
       "      <td>1</td>\n",
       "      <td>17.784843</td>\n",
       "      <td>209.402019</td>\n",
       "      <td>4983.405381</td>\n",
       "      <td>290.372907</td>\n",
       "    </tr>\n",
       "    <tr>\n",
       "      <td>2</td>\n",
       "      <td>174.874371</td>\n",
       "      <td>70.939925</td>\n",
       "      <td>1116.148025</td>\n",
       "      <td>246.258736</td>\n",
       "    </tr>\n",
       "    <tr>\n",
       "      <td>3</td>\n",
       "      <td>211.434628</td>\n",
       "      <td>4.287504</td>\n",
       "      <td>92.845878</td>\n",
       "      <td>217.713389</td>\n",
       "    </tr>\n",
       "    <tr>\n",
       "      <td>4</td>\n",
       "      <td>31.478713</td>\n",
       "      <td>62.293636</td>\n",
       "      <td>963.468113</td>\n",
       "      <td>42.870186</td>\n",
       "    </tr>\n",
       "  </tbody>\n",
       "</table>\n",
       "</div>"
      ],
      "text/plain": [
       "            Recency   Frequency     Monetary  First_Purchase\n",
       "Cluster                                                     \n",
       "1         17.784843  209.402019  4983.405381      290.372907\n",
       "2        174.874371   70.939925  1116.148025      246.258736\n",
       "3        211.434628    4.287504    92.845878      217.713389\n",
       "4         31.478713   62.293636   963.468113       42.870186"
      ]
     },
     "execution_count": 473,
     "metadata": {},
     "output_type": "execute_result"
    }
   ],
   "source": [
    "cluster_mean = cluster_rfm.groupby('Cluster').aggregate(np.mean)\n",
    "cluster_mean"
   ]
  },
  {
   "cell_type": "code",
   "execution_count": 474,
   "metadata": {
    "ExecuteTime": {
     "end_time": "2020-08-07T16:49:33.934455Z",
     "start_time": "2020-08-07T16:49:33.417801Z"
    },
    "scrolled": false
   },
   "outputs": [
    {
     "data": {
      "image/png": "[encoded data removed]",
      "text/plain": [
       "<Figure size 864x864 with 3 Axes>"
      ]
     },
     "metadata": {},
     "output_type": "display_data"
    }
   ],
   "source": [
    "plt.figure(figsize = (12,12))\n",
    "sns.set_style(\"darkgrid\")\n",
    "plt.subplot(3,1,1)\n",
    "cluster_mean['Monetary'].sort_values(ascending = False).plot(kind = 'bar', label = 'Monetary')\n",
    "plt.legend()\n",
    "plt.subplot(3,1,2)\n",
    "cluster_mean['Frequency'].sort_values(ascending = False).plot(kind = 'bar', label = 'Frequency')\n",
    "plt.legend()\n",
    "plt.subplot(3,1,3)\n",
    "cluster_mean['Recency'].sort_values(ascending = True).plot(kind = 'bar', label = 'Recency')\n",
    "plt.legend()\n",
    "\n",
    "plt.show()"
   ]
  },
  {
   "cell_type": "code",
   "execution_count": 475,
   "metadata": {
    "ExecuteTime": {
     "end_time": "2020-08-07T16:49:49.635982Z",
     "start_time": "2020-08-07T16:49:49.404601Z"
    }
   },
   "outputs": [
    {
     "data": {
      "image/png": "[encoded data removed]",
      "text/plain": [
       "<Figure size 720x576 with 1 Axes>"
      ]
     },
     "metadata": {},
     "output_type": "display_data"
    }
   ],
   "source": [
    "x = np.array([5, 10, 15, 20])\n",
    "width = 0.7\n",
    "\n",
    "r = cluster_mean['Recency'].values\n",
    "f = cluster_mean['Frequency'].values\n",
    "m = cluster_mean['Monetary'].values\n",
    "\n",
    "sns.set_style(\"darkgrid\")\n",
    "plt.figure(figsize=(10,8))\n",
    "\n",
    "ax = plt.subplot(111)\n",
    "ax.bar(x, r, width, color='b', align='center')\n",
    "ax.bar(x+width, f, width, color='y', align='center')\n",
    "ax.bar(x+(width*2), m, width, color='r', align='center')\n",
    "\n",
    "ax.set_ylabel('RFM Mean Values')\n",
    "ax.set_xticks(x+width)\n",
    "ax.set_xticklabels(['Cluster 1', 'Cluster 2', 'Cluster 3', 'Cluster 4'])\n",
    "plt.title('Cluster Wise RFM Values')\n",
    "ax.legend(('Receny', 'Frequency', 'Monetary'))\n",
    "\n",
    "plt.tight_layout()\n",
    "plt.show()"
   ]
  },
  {
   "cell_type": "markdown",
   "metadata": {},
   "source": [
    "From the table and the figure shown above, we arrive at the following conclusions about the clusters :\n",
    "\n",
    "**Cluster 1** : Has the 'highest' mean monetary value, 'highest' mean frequency and the 'least' mean recency. These are the ideal values for each of the variables and thus is the cluster containing the best customers. From the mean of the first purchase variable it is also seen that these customers have been assoiated with the business for a very long time. We shall call this cluster as our \"VIP customer cluster\".\n",
    "\n",
    "**Cluster 2** : Has the 'second highest' mean monetary value and frequency and the 'third' mean recency. This cluster also contains customers who have been for a long time. These customers have a great potential to enter the VIP cluster provided that they purchase more often, increasing their recency metric. We call this cluster as our \"Potetial customer cluster\".\n",
    "\n",
    "**Cluster 4** : Has the 'third highest' mean monetary value and frequency and the 'second' mean recency. The mean first purchase is very low whoch indeicates that these customer have started purchasing only recently. We can give some promotions and nudges to enable them to continue shopping with us. We call this cluster as our \"New Customer cluster\".\n",
    "\n",
    "**Cluster 3** : Has the 'least' mean monetary and frequency value and the 'highest' mean recency. These are the poorest values for each of the variables. It is also seen that the mean first purchase is quite close to the mean recency which mean that they have not purchased for a very long time. We call this cluster as our \"At Risk customer cluster\"."
   ]
  },
  {
   "cell_type": "markdown",
   "metadata": {},
   "source": [
    "#### Cluster Visualisation"
   ]
  },
  {
   "cell_type": "code",
   "execution_count": 476,
   "metadata": {
    "ExecuteTime": {
     "end_time": "2020-08-07T16:50:20.625414Z",
     "start_time": "2020-08-07T16:50:20.616438Z"
    }
   },
   "outputs": [],
   "source": [
    "from sklearn.decomposition import PCA\n",
    "pca_model = PCA(n_components = 2).fit(cluster_rfm_trans)\n",
    "pca_2d = pca_model.transform(cluster_rfm_trans)"
   ]
  },
  {
   "cell_type": "code",
   "execution_count": 477,
   "metadata": {
    "ExecuteTime": {
     "end_time": "2020-08-07T16:50:22.082696Z",
     "start_time": "2020-08-07T16:50:22.077710Z"
    },
    "scrolled": true
   },
   "outputs": [],
   "source": [
    "from sklearn.preprocessing import LabelEncoder\n",
    "le = LabelEncoder()\n",
    "y = le.fit_transform(cluster_rfm['Cluster'])"
   ]
  },
  {
   "cell_type": "code",
   "execution_count": 478,
   "metadata": {
    "ExecuteTime": {
     "end_time": "2020-08-07T16:50:22.770000Z",
     "start_time": "2020-08-07T16:50:22.756038Z"
    },
    "scrolled": true
   },
   "outputs": [
    {
     "data": {
      "text/html": [
       "<div>\n",
       "<style scoped>\n",
       "    .dataframe tbody tr th:only-of-type {\n",
       "        vertical-align: middle;\n",
       "    }\n",
       "\n",
       "    .dataframe tbody tr th {\n",
       "        vertical-align: top;\n",
       "    }\n",
       "\n",
       "    .dataframe thead th {\n",
       "        text-align: right;\n",
       "    }\n",
       "</style>\n",
       "<table border=\"1\" class=\"dataframe\">\n",
       "  <thead>\n",
       "    <tr style=\"text-align: right;\">\n",
       "      <th></th>\n",
       "      <th>0</th>\n",
       "      <th>1</th>\n",
       "      <th>2</th>\n",
       "      <th>3</th>\n",
       "      <th>Cluster</th>\n",
       "    </tr>\n",
       "  </thead>\n",
       "  <tbody>\n",
       "    <tr>\n",
       "      <td>0</td>\n",
       "      <td>1.201564</td>\n",
       "      <td>-2.265973</td>\n",
       "      <td>2.850819</td>\n",
       "      <td>0.736273</td>\n",
       "      <td>2</td>\n",
       "    </tr>\n",
       "    <tr>\n",
       "      <td>1</td>\n",
       "      <td>-2.341419</td>\n",
       "      <td>1.072909</td>\n",
       "      <td>1.202066</td>\n",
       "      <td>0.861997</td>\n",
       "      <td>1</td>\n",
       "    </tr>\n",
       "    <tr>\n",
       "      <td>2</td>\n",
       "      <td>0.179416</td>\n",
       "      <td>-0.062932</td>\n",
       "      <td>0.702234</td>\n",
       "      <td>0.835647</td>\n",
       "      <td>2</td>\n",
       "    </tr>\n",
       "    <tr>\n",
       "      <td>3</td>\n",
       "      <td>-0.775681</td>\n",
       "      <td>0.486672</td>\n",
       "      <td>0.689473</td>\n",
       "      <td>-2.280342</td>\n",
       "      <td>4</td>\n",
       "    </tr>\n",
       "    <tr>\n",
       "      <td>4</td>\n",
       "      <td>1.166557</td>\n",
       "      <td>-0.448444</td>\n",
       "      <td>-0.258741</td>\n",
       "      <td>0.682863</td>\n",
       "      <td>2</td>\n",
       "    </tr>\n",
       "  </tbody>\n",
       "</table>\n",
       "</div>"
      ],
      "text/plain": [
       "          0         1         2         3  Cluster\n",
       "0  1.201564 -2.265973  2.850819  0.736273        2\n",
       "1 -2.341419  1.072909  1.202066  0.861997        1\n",
       "2  0.179416 -0.062932  0.702234  0.835647        2\n",
       "3 -0.775681  0.486672  0.689473 -2.280342        4\n",
       "4  1.166557 -0.448444 -0.258741  0.682863        2"
      ]
     },
     "execution_count": 478,
     "metadata": {},
     "output_type": "execute_result"
    }
   ],
   "source": [
    "cluster_viz_data = cluster_rfm_trans.copy()\n",
    "cluster_viz_data['Cluster'] = cluster_rfm.reset_index()['Cluster']\n",
    "cluster_viz_data.head()"
   ]
  },
  {
   "cell_type": "code",
   "execution_count": 481,
   "metadata": {
    "ExecuteTime": {
     "end_time": "2020-08-07T16:51:12.029668Z",
     "start_time": "2020-08-07T16:51:11.650683Z"
    }
   },
   "outputs": [
    {
     "data": {
      "image/png": "[encoded data removed]",
      "text/plain": [
       "<Figure size 864x576 with 1 Axes>"
      ]
     },
     "metadata": {},
     "output_type": "display_data"
    }
   ],
   "source": [
    "plt.figure(figsize = (12,8))\n",
    "sns.set_style(\"darkgrid\")\n",
    "plt.scatter(pca_2d[cluster_viz_data.Cluster == 1, 0], pca_2d[cluster_viz_data.Cluster == 1, 1],\n",
    "            s=70, c='orange', marker='o', edgecolor='black', label='Cluster 1')\n",
    "\n",
    "plt.scatter(pca_2d[cluster_viz_data.Cluster == 2, 0], pca_2d[cluster_viz_data.Cluster == 2, 1],\n",
    "            s=70, c='green', marker='s', edgecolor='black',label='Cluster 2')\n",
    "\n",
    "plt.scatter(pca_2d[cluster_viz_data.Cluster == 3, 0], pca_2d[cluster_viz_data.Cluster == 3, 1],\n",
    "            s=70, c='yellow',marker='P', edgecolor='black',label='Cluster 3')\n",
    "\n",
    "plt.scatter(pca_2d[cluster_viz_data.Cluster == 4, 0], pca_2d[cluster_viz_data.Cluster == 4, 1],\n",
    "            s=70, c='blue',marker='D', edgecolor='black',label='Cluster 4')\n",
    "\n",
    "centroids = pca_model.transform(rmf_clusters.cluster_centers_)\n",
    "\n",
    "plt.scatter(centroids[:,0], centroids[:,1], s=350, marker='*', c='white', edgecolor='black', label='Centroid')\n",
    "\n",
    "plt.title('RFM Clusters')\n",
    "plt.xlabel('Component 1')\n",
    "plt.ylabel('Component 2')\n",
    "plt.legend()\n",
    "plt.show()"
   ]
  }
 ],
 "metadata": {
  "kernelspec": {
   "display_name": "Python 3",
   "language": "python",
   "name": "python3"
  },
  "language_info": {
   "codemirror_mode": {
    "name": "ipython",
    "version": 3
   },
   "file_extension": ".py",
   "mimetype": "text/x-python",
   "name": "python",
   "nbconvert_exporter": "python",
   "pygments_lexer": "ipython3",
   "version": "3.7.7"
  },
  "toc": {
   "base_numbering": 1,
   "nav_menu": {},
   "number_sections": true,
   "sideBar": true,
   "skip_h1_title": false,
   "title_cell": "Table of Contents",
   "title_sidebar": "Contents",
   "toc_cell": true,
   "toc_position": {
    "height": "calc(100% - 180px)",
    "left": "10px",
    "top": "150px",
    "width": "304.81px"
   },
   "toc_section_display": true,
   "toc_window_display": true
  },
  "varInspector": {
   "cols": {
    "lenName": 16,
    "lenType": 16,
    "lenVar": 40
   },
   "kernels_config": {
    "python": {
     "delete_cmd_postfix": "",
     "delete_cmd_prefix": "del ",
     "library": "var_list.py",
     "varRefreshCmd": "print(var_dic_list())"
    },
    "r": {
     "delete_cmd_postfix": ") ",
     "delete_cmd_prefix": "rm(",
     "library": "var_list.r",
     "varRefreshCmd": "cat(var_dic_list()) "
    }
   },
   "types_to_exclude": [
    "module",
    "function",
    "builtin_function_or_method",
    "instance",
    "_Feature"
   ],
   "window_display": false
  }
 },
 "nbformat": 4,
 "nbformat_minor": 2
}
